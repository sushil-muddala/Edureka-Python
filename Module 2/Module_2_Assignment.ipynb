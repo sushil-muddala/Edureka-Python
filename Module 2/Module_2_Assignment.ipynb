{
  "nbformat": 4,
  "nbformat_minor": 0,
  "metadata": {
    "colab": {
      "provenance": []
    },
    "kernelspec": {
      "name": "python3",
      "display_name": "Python 3"
    },
    "language_info": {
      "name": "python"
    }
  },
  "cells": [
    {
      "cell_type": "code",
      "execution_count": null,
      "metadata": {
        "colab": {
          "base_uri": "https://localhost:8080/"
        },
        "id": "guFNCaluft2r",
        "outputId": "95a07094-bd72-44ee-cb87-f7cea0f0bb0d"
      },
      "outputs": [
        {
          "output_type": "stream",
          "name": "stdout",
          "text": [
            "*** Welcome To Bus Ticket Booking System ***\n",
            "\n",
            "Enter UserID : 123\n",
            "Enter Password : Chegg@123\n",
            "\n",
            "Thank You !! You have successfully registered...\n"
          ]
        }
      ],
      "source": [
        "#Smith wishes to register on a ticket booking website for booking bus tickets.\n",
        "import re\n",
        "print(\"*** Welcome To Bus Ticket Booking System ***\\n\") \n",
        "user_id = input(\"Enter UserID : \") \n",
        "password = input(\"Enter Password : \")\n",
        "isValid = True \n",
        "while isValid:\n",
        "  if (len(password)<5 or len(password)>10):\n",
        "    break     \n",
        "  elif not re.search(\"[a-z]\", password):     \n",
        "    break     \n",
        "  elif not re.search(\"[A-Z]\", password):\n",
        "    break     \n",
        "  elif not re.search(\"[0-9]\", password):\n",
        "    break         \n",
        "  elif not re.search(\"[@&]\", password):\n",
        "    break     \n",
        "  else: print(\"\\nThank You !! You have successfully registered...\")\n",
        "  isValid = False            \n",
        "if isValid:   \n",
        "      print(\"\\nInvalid Password !! Try again later...\") \n",
        "  "
      ]
    },
    {
      "cell_type": "code",
      "source": [
        "#Write a program for printing all elements of a list and their indexes inthe list.Take the list as user input\n",
        "lst = []\n",
        "n = int(input(\"Enter number of elements : \")) \n",
        "for i in range(0, n):\n",
        "    ele = int(input())\n",
        "  \n",
        "    lst.append(ele) \n",
        "      \n",
        "print(lst)"
      ],
      "metadata": {
        "colab": {
          "base_uri": "https://localhost:8080/"
        },
        "id": "E15LG1y1jgWJ",
        "outputId": "b676f675-fce2-4644-abe9-8034cda4034b"
      },
      "execution_count": null,
      "outputs": [
        {
          "output_type": "stream",
          "name": "stdout",
          "text": [
            "Enter number of elements : 5\n",
            "12\n",
            "33\n",
            "45\n",
            "65\n",
            "10\n",
            "[12, 33, 45, 65, 10]\n"
          ]
        }
      ]
    },
    {
      "cell_type": "code",
      "source": [
        "#Write  a  program that accepts a  string from the  console and prints the  characters that have even indexes if the character is an alphabet. Concatenate the characters and print.\n",
        "print(\"Please enter text to print::\")\n",
        "inputchars = input()\n",
        "\n",
        "if inputchars:\n",
        "\tstring = \"\"\n",
        "\tfor i in inputchars:\n",
        "\t\tif inputchars.index(i)%2 == 0:\n",
        "\t\t\tstring += str(i)\n",
        "\n",
        "\tprint('-------------------')\n",
        "\tprint(\"You Entered:\", inputchars)\n",
        "\tprint(\"Result:\")\n",
        "\tprint(string)"
      ],
      "metadata": {
        "colab": {
          "base_uri": "https://localhost:8080/"
        },
        "id": "039pwqwDj5Ph",
        "outputId": "ec654238-4751-4638-9935-8d03a129c86d"
      },
      "execution_count": null,
      "outputs": [
        {
          "output_type": "stream",
          "name": "stdout",
          "text": [
            "Please enter text to print::\n",
            "Ed12ur3ka1Python12\n",
            "-------------------\n",
            "You Entered: Ed12ur3ka1Python12\n",
            "Result:\n",
            "E1u3a1Pto1\n"
          ]
        }
      ]
    },
    {
      "cell_type": "code",
      "source": [
        "#Write  a  program that accepts  a  string  from the console  and  printsit  in reverse order\n",
        "reverse_word = input(\"Enter A String: \")\n",
        "new_reverse_word = reverse_word[::-1]\n",
        "print(new_reverse_word)\n"
      ],
      "metadata": {
        "colab": {
          "base_uri": "https://localhost:8080/"
        },
        "id": "cMXaIxr4lEQ-",
        "outputId": "82df83bc-2aef-46bf-87e2-4adb3292f815"
      },
      "execution_count": null,
      "outputs": [
        {
          "output_type": "stream",
          "name": "stdout",
          "text": [
            "Enter A String: DJ KHALED WE DA BEST\n",
            "TSEB AD EW DELAHK JD\n"
          ]
        }
      ]
    },
    {
      "cell_type": "code",
      "source": [
        "#Write a program that counts and prints the numbers of each character in a string input by the console.\n",
        "string=input(\"Enter the string !!\")\n",
        "\n",
        "newstr=list(string)\n",
        "\n",
        "newlist=[]\n",
        "\n",
        "for j in newstr:\n",
        "\n",
        "    if j not in newlist:\n",
        "\n",
        "        newlist.append(j)\n",
        "\n",
        "        count=0\n",
        "\n",
        "        for i in range(len(newstr)):\n",
        "\n",
        "            if j==newstr[i]:\n",
        "\n",
        "                count+=1\n",
        "\n",
        "        print(\"{}:{}\".format(j,count))"
      ],
      "metadata": {
        "colab": {
          "base_uri": "https://localhost:8080/"
        },
        "id": "pLmOnrIQlibY",
        "outputId": "47314524-30fd-4c85-ab10-d9f47ec53dce"
      },
      "execution_count": null,
      "outputs": [
        {
          "output_type": "stream",
          "name": "stdout",
          "text": [
            "Enter the string !!abahbdljdklja\n",
            "a:3\n",
            "b:2\n",
            "h:1\n",
            "d:2\n",
            "l:2\n",
            "j:2\n",
            "k:1\n"
          ]
        }
      ]
    }
  ]
}