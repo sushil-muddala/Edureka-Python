{
  "nbformat": 4,
  "nbformat_minor": 0,
  "metadata": {
    "colab": {
      "provenance": [],
      "collapsed_sections": []
    },
    "kernelspec": {
      "name": "python3",
      "display_name": "Python 3"
    },
    "language_info": {
      "name": "python"
    }
  },
  "cells": [
    {
      "cell_type": "code",
      "execution_count": null,
      "metadata": {
        "id": "zmcwLobH58Ec"
      },
      "outputs": [],
      "source": [
        "#Case Study No.1 : Data Analyst in San Francsico City - Heatmap\n",
        "import folium\n",
        "from folium import plugins\n",
        "import pandas as pd\n",
        "print(folium.__version__)\n",
        "divvyStations_q3 = pd.read_csv('Divvy_Stations_2016_Q3.csv')\n",
        "divvyStations_q4 = pd.read_csv('Divvy_Stations_2016_Q4.csv')\n",
        "\n",
        "divvyStations = pd.concat([divvyStations_q3, divvyStations_q4],\n",
        "axis=0).drop_duplicates(subset=['id'])\n",
        "divvyStations.head()\n",
        "CHICAGO_COORD = [41.8781, -87.6298]\n",
        "map_heat = folium.Map(CHICAGO_COORD,\n",
        " zoom_start=11)\n",
        "\n",
        " for index, row in divvyStations.iterrows():\n",
        " folium.CircleMarker([row['latitude'], row['longitude']],\n",
        " radius=15,\n",
        " popup=row['name'],\n",
        " fill_color=\"#3db7e4\", # divvy color\n",
        " ).add_to(map_heat)\n",
        "stationArr = [[row['latitude'],row['longitude']] for index, row in\n",
        "divvyStations.iterrows()]\n",
        "#Plot Heatmap\n",
        "map_heat.add_child(plugins.HeatMap(stationArr, radius=15))\n",
        "map_heat.save(\"BikeStationHeatMap.html\")\n",
        "print(map_heat)\n"
      ]
    },
    {
      "cell_type": "code",
      "source": [
        "#Crime Data Map\n",
        "import pandas as pd\n",
        "import folium as fm\n",
        "SF_COORDINATES = (37.76, -122.45)\n",
        "crime_data =\n",
        "pd.read_csv('Police_Department_Incidents_Year_2016_.csv',parse_dates =\n",
        "['Date']).sort_values('Date')\n",
        "\n",
        "print(crime_data.head())\n",
        "print(crime_data.info())\n",
        "\n",
        "MAX_RECORDS = 100\n",
        "\n",
        "tiles,zoom_start\n",
        "\n",
        "Module 9: Developing Web Maps and Representing information using Plots\n",
        "© B r a i n 4 c e E d u c a t i o n S o l u t i o n s P v t . L t d Page 4\n",
        "map = fm.Map(location=SF_COORDINATES, zoom_start=12,tiles=\"OpenStreetMap\")\n",
        "\n",
        "fg = fm.FeatureGroup(name=\"Crime Locations\")\n",
        "\n",
        "for data in crime_data[0:MAX_RECORDS].iterrows():\n",
        " fg.add_child(fm.Marker(location=[data[1]['Y'], data[1]['X']\n",
        "],icon=fm.Icon(color=\"red\")) )\n",
        "\n",
        "fm.RegularPolygonMarker,\n",
        "\n",
        "map.add_child(fg)\n",
        "map.save(\"BasicWebMap.html\")\n",
        "print(map)\n"
      ],
      "metadata": {
        "id": "jcUacO8K80RY"
      },
      "execution_count": null,
      "outputs": []
    },
    {
      "cell_type": "code",
      "source": [
        "#For latest 7 days of data create WebMap of Crimes which are categorized as ROBBERY\n",
        "\n",
        "is_robbery = crime_data.Category == 'ROBBERY'\n",
        "\n",
        "recent = crime_data.Date.isin(crime_data.Date.unique()[-7:])\n",
        "\n",
        "robbery = crime_data[is_robbery &\n",
        "recent].drop_duplicates('IncidntNum').reset_index(drop = True)\n",
        "print ('{} robbery in the last 7 days'.format(str(len(robbery))))\n",
        "\n",
        "map = fm.Map(location=SF_COORDINATES, zoom_start=12,tiles=\"Stamen Terrain\")\n",
        "fg = fm.FeatureGroup(name=\"Robbery Locations\")\n",
        "for data in robbery.iterrows():\n",
        " fg.add_child(fm.Marker(location=[data[1]['Y'], data[1]['X']\n",
        "Module 9: Developing Web Maps and Representing information using Plots\n",
        "© B r a i n 4 c e E d u c a t i o n S o l u t i o n s P v t . L t d Page 5\n",
        "],icon=fm.Icon(color=\"blue\")) )\n",
        "map.add_child(fg)\n",
        "map.save(\"RobberyWebMap.html\")\n",
        "print(map)\n"
      ],
      "metadata": {
        "id": "1o1KiSx49AVU"
      },
      "execution_count": null,
      "outputs": []
    },
    {
      "cell_type": "code",
      "source": [
        "#For latest 15 days of data create One WebMap of Crimes which are\n",
        "categorized as FRAUD and GAMBLING\n",
        "\n",
        "is_fraud = crime_data.Category == 'FRAUD'\n",
        "is_gambling = crime_data.Category == 'GAMBLING'\n",
        "recent_15_days = crime_data.Date.isin(crime_data.Date.unique()[-15:])\n",
        "fraud_gambling = crime_data[(is_fraud | is_gambling) &\n",
        "recent_15_days].drop_duplicates('IncidntNum').reset_index(drop = True)\n",
        "print ( '{} Fraud & Gambling in the last 15 days'.format(str(len(fraud_gambling)))\n",
        ")\n",
        "map = fm.Map(location=SF_COORDINATES, zoom_start=12,tiles=\"Stamen Terrain\")\n",
        "fg = fm.FeatureGroup(name=\"Fraud & Gambling Locations\")\n",
        "for data in fraud_gambling.iterrows():\n",
        " print(data[1]['Category'])\n",
        " if data[1]['Category'] == 'FRAUD':\n",
        " color_show = \"red\"\n",
        " angle = 0\n",
        " else:\n",
        " color_show = \"green\"\n",
        " angle = 180\n",
        " fg.add_child(fm.Marker(location=[data[1]['Y'], data[1]['X']\n",
        "],icon=fm.Icon(color=color_show,angle=angle,icon='bolt', prefix='fa')) )\n",
        "map.add_child(fg)\n",
        "map.save(\"FRAUDGAMBLING_15Days.html\")\n",
        "print(map)"
      ],
      "metadata": {
        "id": "yzzf0WqN9VHR"
      },
      "execution_count": null,
      "outputs": []
    }
  ]
}