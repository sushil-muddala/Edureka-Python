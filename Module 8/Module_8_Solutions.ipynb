{
  "nbformat": 4,
  "nbformat_minor": 0,
  "metadata": {
    "colab": {
      "provenance": [],
      "collapsed_sections": []
    },
    "kernelspec": {
      "name": "python3",
      "display_name": "Python 3"
    },
    "language_info": {
      "name": "python"
    },
    "widgets": {
      "application/vnd.jupyter.widget-state+json": {
        "d78ab55ca4f14229ad7da73d68562574": {
          "model_module": "@jupyter-widgets/controls",
          "model_name": "PasswordModel",
          "model_module_version": "1.5.0",
          "state": {
            "_dom_classes": [],
            "_model_module": "@jupyter-widgets/controls",
            "_model_module_version": "1.5.0",
            "_model_name": "PasswordModel",
            "_view_count": null,
            "_view_module": "@jupyter-widgets/controls",
            "_view_module_version": "1.5.0",
            "_view_name": "PasswordView",
            "continuous_update": true,
            "description": "Password:",
            "description_tooltip": null,
            "disabled": false,
            "layout": "IPY_MODEL_1be6188972504bd2a62be3a390acc664",
            "placeholder": "Enter password",
            "style": "IPY_MODEL_1bfe066a18294640aa154a2c54337565",
            "value": ""
          }
        },
        "1be6188972504bd2a62be3a390acc664": {
          "model_module": "@jupyter-widgets/base",
          "model_name": "LayoutModel",
          "model_module_version": "1.2.0",
          "state": {
            "_model_module": "@jupyter-widgets/base",
            "_model_module_version": "1.2.0",
            "_model_name": "LayoutModel",
            "_view_count": null,
            "_view_module": "@jupyter-widgets/base",
            "_view_module_version": "1.2.0",
            "_view_name": "LayoutView",
            "align_content": null,
            "align_items": null,
            "align_self": null,
            "border": null,
            "bottom": null,
            "display": null,
            "flex": null,
            "flex_flow": null,
            "grid_area": null,
            "grid_auto_columns": null,
            "grid_auto_flow": null,
            "grid_auto_rows": null,
            "grid_column": null,
            "grid_gap": null,
            "grid_row": null,
            "grid_template_areas": null,
            "grid_template_columns": null,
            "grid_template_rows": null,
            "height": null,
            "justify_content": null,
            "justify_items": null,
            "left": null,
            "margin": null,
            "max_height": null,
            "max_width": null,
            "min_height": null,
            "min_width": null,
            "object_fit": null,
            "object_position": null,
            "order": null,
            "overflow": null,
            "overflow_x": null,
            "overflow_y": null,
            "padding": null,
            "right": null,
            "top": null,
            "visibility": null,
            "width": null
          }
        },
        "1bfe066a18294640aa154a2c54337565": {
          "model_module": "@jupyter-widgets/controls",
          "model_name": "DescriptionStyleModel",
          "model_module_version": "1.5.0",
          "state": {
            "_model_module": "@jupyter-widgets/controls",
            "_model_module_version": "1.5.0",
            "_model_name": "DescriptionStyleModel",
            "_view_count": null,
            "_view_module": "@jupyter-widgets/base",
            "_view_module_version": "1.2.0",
            "_view_name": "StyleView",
            "description_width": ""
          }
        },
        "1b1773185cd944b7bf90f6720de0bad8": {
          "model_module": "@jupyter-widgets/controls",
          "model_name": "RadioButtonsModel",
          "model_module_version": "1.5.0",
          "state": {
            "_dom_classes": [],
            "_model_module": "@jupyter-widgets/controls",
            "_model_module_version": "1.5.0",
            "_model_name": "RadioButtonsModel",
            "_options_labels": [
              "First",
              "Second",
              "Third"
            ],
            "_view_count": null,
            "_view_module": "@jupyter-widgets/controls",
            "_view_module_version": "1.5.0",
            "_view_name": "RadioButtonsView",
            "description": "Order:",
            "description_tooltip": null,
            "disabled": false,
            "index": 0,
            "layout": "IPY_MODEL_ec388c610e704fd5a40291dca94de070",
            "style": "IPY_MODEL_c22d67fce37f422fb8f75d923645c432"
          }
        },
        "ec388c610e704fd5a40291dca94de070": {
          "model_module": "@jupyter-widgets/base",
          "model_name": "LayoutModel",
          "model_module_version": "1.2.0",
          "state": {
            "_model_module": "@jupyter-widgets/base",
            "_model_module_version": "1.2.0",
            "_model_name": "LayoutModel",
            "_view_count": null,
            "_view_module": "@jupyter-widgets/base",
            "_view_module_version": "1.2.0",
            "_view_name": "LayoutView",
            "align_content": null,
            "align_items": null,
            "align_self": null,
            "border": null,
            "bottom": null,
            "display": null,
            "flex": null,
            "flex_flow": null,
            "grid_area": null,
            "grid_auto_columns": null,
            "grid_auto_flow": null,
            "grid_auto_rows": null,
            "grid_column": null,
            "grid_gap": null,
            "grid_row": null,
            "grid_template_areas": null,
            "grid_template_columns": null,
            "grid_template_rows": null,
            "height": null,
            "justify_content": null,
            "justify_items": null,
            "left": null,
            "margin": null,
            "max_height": null,
            "max_width": null,
            "min_height": null,
            "min_width": null,
            "object_fit": null,
            "object_position": null,
            "order": null,
            "overflow": null,
            "overflow_x": null,
            "overflow_y": null,
            "padding": null,
            "right": null,
            "top": null,
            "visibility": null,
            "width": null
          }
        },
        "c22d67fce37f422fb8f75d923645c432": {
          "model_module": "@jupyter-widgets/controls",
          "model_name": "DescriptionStyleModel",
          "model_module_version": "1.5.0",
          "state": {
            "_model_module": "@jupyter-widgets/controls",
            "_model_module_version": "1.5.0",
            "_model_name": "DescriptionStyleModel",
            "_view_count": null,
            "_view_module": "@jupyter-widgets/base",
            "_view_module_version": "1.2.0",
            "_view_name": "StyleView",
            "description_width": ""
          }
        },
        "e1eadbee93c645d08ea0af4003af9d40": {
          "model_module": "@jupyter-widgets/controls",
          "model_name": "DropdownModel",
          "model_module_version": "1.5.0",
          "state": {
            "_dom_classes": [],
            "_model_module": "@jupyter-widgets/controls",
            "_model_module_version": "1.5.0",
            "_model_name": "DropdownModel",
            "_options_labels": [
              "Bangalore",
              "Mangalore",
              "Mysore"
            ],
            "_view_count": null,
            "_view_module": "@jupyter-widgets/controls",
            "_view_module_version": "1.5.0",
            "_view_name": "DropdownView",
            "description": "Choose",
            "description_tooltip": null,
            "disabled": false,
            "index": 1,
            "layout": "IPY_MODEL_3a026dcd17924c53a0bc54674fa82211",
            "style": "IPY_MODEL_4f35989bce094d3d944890c6d12e9cd2"
          }
        },
        "3a026dcd17924c53a0bc54674fa82211": {
          "model_module": "@jupyter-widgets/base",
          "model_name": "LayoutModel",
          "model_module_version": "1.2.0",
          "state": {
            "_model_module": "@jupyter-widgets/base",
            "_model_module_version": "1.2.0",
            "_model_name": "LayoutModel",
            "_view_count": null,
            "_view_module": "@jupyter-widgets/base",
            "_view_module_version": "1.2.0",
            "_view_name": "LayoutView",
            "align_content": null,
            "align_items": null,
            "align_self": null,
            "border": null,
            "bottom": null,
            "display": null,
            "flex": null,
            "flex_flow": null,
            "grid_area": null,
            "grid_auto_columns": null,
            "grid_auto_flow": null,
            "grid_auto_rows": null,
            "grid_column": null,
            "grid_gap": null,
            "grid_row": null,
            "grid_template_areas": null,
            "grid_template_columns": null,
            "grid_template_rows": null,
            "height": null,
            "justify_content": null,
            "justify_items": null,
            "left": null,
            "margin": null,
            "max_height": null,
            "max_width": null,
            "min_height": null,
            "min_width": null,
            "object_fit": null,
            "object_position": null,
            "order": null,
            "overflow": null,
            "overflow_x": null,
            "overflow_y": null,
            "padding": null,
            "right": null,
            "top": null,
            "visibility": null,
            "width": null
          }
        },
        "4f35989bce094d3d944890c6d12e9cd2": {
          "model_module": "@jupyter-widgets/controls",
          "model_name": "DescriptionStyleModel",
          "model_module_version": "1.5.0",
          "state": {
            "_model_module": "@jupyter-widgets/controls",
            "_model_module_version": "1.5.0",
            "_model_name": "DescriptionStyleModel",
            "_view_count": null,
            "_view_module": "@jupyter-widgets/base",
            "_view_module_version": "1.2.0",
            "_view_name": "StyleView",
            "description_width": ""
          }
        }
      }
    }
  },
  "cells": [
    {
      "cell_type": "code",
      "execution_count": null,
      "metadata": {
        "id": "bRjD42DjieZz"
      },
      "outputs": [],
      "source": [
        "#Write a Python GUI program to add abutton in your application using the Tkinter module\n",
        "import tkinter as tk \n",
        "parent = tk.Tk() \n",
        "parent.title('Title - button') \n",
        "my_button = tk.Button(parent, text='Quit', height=1, width=35, command=parent.destroy) \n",
        "my_button.pack() \n",
        "parent.mainloop()"
      ]
    },
    {
      "cell_type": "code",
      "source": [
        "#Write a Python GUI program to create a Spinbox widget using the Tkinter module\n",
        "import tkinter as tk\n",
        "root = tk.Tk()\n",
        "text_var = tk.DoubleVar()\n",
        "\n",
        "spin_box = tk.Spinbox(\n",
        "    root,\n",
        "    from_=0.6,\n",
        "    to=50.0,\n",
        "    increment=.01,\n",
        "    textvariable=text_var\n",
        ")\n",
        "spin_box.pack()\n",
        "root.mainloop()"
      ],
      "metadata": {
        "id": "OiM0_NGFlEs5"
      },
      "execution_count": null,
      "outputs": []
    },
    {
      "cell_type": "code",
      "source": [
        "#Create a login page that will ask for input such as Name and Password\n",
        "import ipywidgets\n",
        "user_name=widgets.Combobox(\n",
        "    placeholder='Choose Someone',\n",
        "    options=['Username_1', 'Username_2', 'Username_3', 'Username_4'],\n",
        "    description='Enter Your Username:',\n",
        "    ensure_option=True,\n",
        "    disabled=False\n",
        ")\n",
        "password=widgets.Password(\n",
        "    value='',\n",
        "    placeholder='Enter password',\n",
        "    description='Password:',\n",
        "    disabled=False\n",
        ")\n",
        "user_name\n",
        "password\n",
        "\n"
      ],
      "metadata": {
        "colab": {
          "base_uri": "https://localhost:8080/",
          "height": 49,
          "referenced_widgets": [
            "d78ab55ca4f14229ad7da73d68562574",
            "1be6188972504bd2a62be3a390acc664",
            "1bfe066a18294640aa154a2c54337565"
          ]
        },
        "id": "r7fPF1jym3Lp",
        "outputId": "cdbca0d4-8fa3-426f-bf2e-c77183b40bea"
      },
      "execution_count": null,
      "outputs": [
        {
          "output_type": "display_data",
          "data": {
            "text/plain": [
              "Password(description='Password:', placeholder='Enter password')"
            ],
            "application/vnd.jupyter.widget-view+json": {
              "version_major": 2,
              "version_minor": 0,
              "model_id": "d78ab55ca4f14229ad7da73d68562574"
            }
          },
          "metadata": {}
        }
      ]
    },
    {
      "cell_type": "code",
      "source": [
        "#Create three radio buttons that will include 3 fields:First,Second,and Third\n",
        "import ipywidgets as widgets\n",
        "widgets.RadioButtons(\n",
        "    options=['First', 'Second', 'Third'],\n",
        "    description='Order:',\n",
        "    disabled=False\n",
        ")"
      ],
      "metadata": {
        "colab": {
          "base_uri": "https://localhost:8080/",
          "height": 113,
          "referenced_widgets": [
            "1b1773185cd944b7bf90f6720de0bad8",
            "ec388c610e704fd5a40291dca94de070",
            "c22d67fce37f422fb8f75d923645c432"
          ]
        },
        "id": "wTgFwMPfoQne",
        "outputId": "dc387d16-fea6-447f-a8a6-7750fe525ebc"
      },
      "execution_count": null,
      "outputs": [
        {
          "output_type": "display_data",
          "data": {
            "text/plain": [
              "RadioButtons(description='Order:', options=('First', 'Second', 'Third'), value='First')"
            ],
            "application/vnd.jupyter.widget-view+json": {
              "version_major": 2,
              "version_minor": 0,
              "model_id": "1b1773185cd944b7bf90f6720de0bad8"
            }
          },
          "metadata": {}
        }
      ]
    },
    {
      "cell_type": "code",
      "source": [
        "#Create a dropdown menu for a few cities\n",
        "import ipywidgets as widgets\n",
        "bor = 'A'\n",
        "drop_down = widgets.Dropdown(options=['Bangalore','Mangalore','Mysore'],\n",
        "                                description='Choose',\n",
        "                                disabled=False)\n",
        "\n",
        "def dropdown_handler(change):\n",
        "    global bor\n",
        "    print(change.new)\n",
        "    bor = change.new  \n",
        "drop_down.observe(dropdown_handler, names='value')\n",
        "display(drop_down)"
      ],
      "metadata": {
        "colab": {
          "base_uri": "https://localhost:8080/",
          "height": 66,
          "referenced_widgets": [
            "e1eadbee93c645d08ea0af4003af9d40",
            "3a026dcd17924c53a0bc54674fa82211",
            "4f35989bce094d3d944890c6d12e9cd2"
          ]
        },
        "id": "QlAPEF7ooQuU",
        "outputId": "f6598711-4220-4eba-ac0b-9051dbafd32a"
      },
      "execution_count": null,
      "outputs": [
        {
          "output_type": "display_data",
          "data": {
            "text/plain": [
              "Dropdown(description='Choose', options=('Bangalore', 'Mangalore', 'Mysore'), value='Bangalore')"
            ],
            "application/vnd.jupyter.widget-view+json": {
              "version_major": 2,
              "version_minor": 0,
              "model_id": "e1eadbee93c645d08ea0af4003af9d40"
            }
          },
          "metadata": {}
        },
        {
          "output_type": "stream",
          "name": "stdout",
          "text": [
            "Mangalore\n"
          ]
        }
      ]
    }
  ]
}