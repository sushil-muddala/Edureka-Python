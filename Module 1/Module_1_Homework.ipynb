{
  "nbformat": 4,
  "nbformat_minor": 0,
  "metadata": {
    "colab": {
      "provenance": []
    },
    "kernelspec": {
      "name": "python3",
      "display_name": "Python 3"
    },
    "language_info": {
      "name": "python"
    }
  },
  "cells": [
    {
      "cell_type": "code",
      "execution_count": null,
      "metadata": {
        "colab": {
          "base_uri": "https://localhost:8080/"
        },
        "id": "q_Six-t-Qtsk",
        "outputId": "3d10a1c5-5d65-4664-e9bb-622c1b4bfd53"
      },
      "outputs": [
        {
          "output_type": "stream",
          "name": "stdout",
          "text": [
            "Enter a number:77\n",
            "The number is palindrome!\n"
          ]
        }
      ],
      "source": [
        "#Design a code which will find whether the given number is Palindrome number or not.\n",
        "\n",
        "num=int(input(\"Enter a number:\"))\n",
        "temp=num\n",
        "rev=0\n",
        "while(num>0):\n",
        "    dig=num%10\n",
        "    rev=rev*10+dig\n",
        "    num=num//10\n",
        "if(temp==rev):\n",
        "    print(\"The number is palindrome!\")\n",
        "else:\n",
        "    print(\"Not a palindrome!\")"
      ]
    },
    {
      "cell_type": "code",
      "source": [
        "#Write a program to find the factors of a given number and check whether the factor is even or odd.\n",
        "x = int(input(\"Enter any number: \"))\n",
        "print(\"The factors of\",x,\"are:\")\n",
        "for i in range(1, x + 1):\n",
        "    if x % i == 0:\n",
        "        if i % 2 == 0:\n",
        "            print(i,\" Even\")\n",
        "        else:\n",
        "            print(i,\" Odd\")"
      ],
      "metadata": {
        "id": "dZhVL0RnQ1n1",
        "colab": {
          "base_uri": "https://localhost:8080/"
        },
        "outputId": "35e76294-bdcb-4f84-9b89-8b7f3db55380"
      },
      "execution_count": null,
      "outputs": [
        {
          "output_type": "stream",
          "name": "stdout",
          "text": [
            "Enter any number: 10\n",
            "The factors of 10 are:\n",
            "1  Odd\n",
            "2  Even\n",
            "5  Odd\n",
            "10  Even\n"
          ]
        }
      ]
    },
    {
      "cell_type": "code",
      "source": [
        "#Write a program that accepts a stringand calculatesthe number of letters and digits.\n",
        "s = input(\"Input a string: \")\n",
        "d=l=0\n",
        "for c in s:\n",
        "    if c.isdigit():\n",
        "        d=d+1\n",
        "    elif c.isalpha():\n",
        "        l=l+1\n",
        "    else:\n",
        "        pass\n",
        "print(\"Letters:\", l)\n",
        "print(\"Digits:\", d)"
      ],
      "metadata": {
        "colab": {
          "base_uri": "https://localhost:8080/"
        },
        "id": "bzGWEZKLbrXW",
        "outputId": "aeef1e97-9849-457d-fe90-38eb3d00613b"
      },
      "execution_count": null,
      "outputs": [
        {
          "output_type": "stream",
          "name": "stdout",
          "text": [
            "Input a string: hi\n",
            "Letters: 2\n",
            "Digits: 0\n"
          ]
        }
      ]
    },
    {
      "cell_type": "code",
      "source": [
        "#Write a program that will find all the numbers between 1000 and 3000 (both excluded) such that each digit of a number is an odd number. Print the number of such elements\n",
        "items = []\n",
        "for i in range(1001,3001):\n",
        "    s = str(i)\n",
        "    if (int(s[0])%2==1) and (int(s[1])%2==1) and (int(s[2])%2==1):\n",
        "        items.append(s)\n",
        "print( \",\".join(items))"
      ],
      "metadata": {
        "colab": {
          "base_uri": "https://localhost:8080/"
        },
        "id": "MGpsr6MTcKMM",
        "outputId": "11d3ba31-cc91-4122-dcc7-021141170798"
      },
      "execution_count": null,
      "outputs": [
        {
          "output_type": "stream",
          "name": "stdout",
          "text": [
            "1110,1111,1112,1113,1114,1115,1116,1117,1118,1119,1130,1131,1132,1133,1134,1135,1136,1137,1138,1139,1150,1151,1152,1153,1154,1155,1156,1157,1158,1159,1170,1171,1172,1173,1174,1175,1176,1177,1178,1179,1190,1191,1192,1193,1194,1195,1196,1197,1198,1199,1310,1311,1312,1313,1314,1315,1316,1317,1318,1319,1330,1331,1332,1333,1334,1335,1336,1337,1338,1339,1350,1351,1352,1353,1354,1355,1356,1357,1358,1359,1370,1371,1372,1373,1374,1375,1376,1377,1378,1379,1390,1391,1392,1393,1394,1395,1396,1397,1398,1399,1510,1511,1512,1513,1514,1515,1516,1517,1518,1519,1530,1531,1532,1533,1534,1535,1536,1537,1538,1539,1550,1551,1552,1553,1554,1555,1556,1557,1558,1559,1570,1571,1572,1573,1574,1575,1576,1577,1578,1579,1590,1591,1592,1593,1594,1595,1596,1597,1598,1599,1710,1711,1712,1713,1714,1715,1716,1717,1718,1719,1730,1731,1732,1733,1734,1735,1736,1737,1738,1739,1750,1751,1752,1753,1754,1755,1756,1757,1758,1759,1770,1771,1772,1773,1774,1775,1776,1777,1778,1779,1790,1791,1792,1793,1794,1795,1796,1797,1798,1799,1910,1911,1912,1913,1914,1915,1916,1917,1918,1919,1930,1931,1932,1933,1934,1935,1936,1937,1938,1939,1950,1951,1952,1953,1954,1955,1956,1957,1958,1959,1970,1971,1972,1973,1974,1975,1976,1977,1978,1979,1990,1991,1992,1993,1994,1995,1996,1997,1998,1999\n"
          ]
        }
      ]
    },
    {
      "cell_type": "code",
      "source": [
        "#Write a code that accepts a sequence of words as input and prints the words in a sequence after sorting them alphabetically.\n",
        "my_str = input(\"Enter a string: \")\n",
        "words = my_str.split()\n",
        "words.sort()\n",
        "for word in words:\n",
        "   print(word)"
      ],
      "metadata": {
        "id": "CmmDGHe4fG-V"
      },
      "execution_count": null,
      "outputs": []
    }
  ]
}