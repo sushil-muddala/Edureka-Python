{
  "nbformat": 4,
  "nbformat_minor": 0,
  "metadata": {
    "colab": {
      "provenance": [],
      "collapsed_sections": []
    },
    "kernelspec": {
      "name": "python3",
      "display_name": "Python 3"
    },
    "language_info": {
      "name": "python"
    }
  },
  "cells": [
    {
      "cell_type": "code",
      "execution_count": null,
      "metadata": {
        "colab": {
          "base_uri": "https://localhost:8080/"
        },
        "id": "kYRObZSE3025",
        "outputId": "c69a04c5-0a75-47e6-8523-aa0d7f7dcfbd"
      },
      "outputs": [
        {
          "output_type": "stream",
          "name": "stdout",
          "text": [
            "Old Array Without Numpy:\n",
            "[[1, 2, 3], [4, 5, 6], [7, 8, 9]]\n",
            "New Array With Numpy:\n",
            "[[-2  2 -2]\n",
            " [ 4 -2  6]\n",
            " [-2  8 -2]]\n"
          ]
        }
      ],
      "source": [
        "#Convert the given list into a numpy array and replace the odd elements with-2\n",
        "import numpy as np\n",
        "\n",
        "lst = [[1,2,3],\n",
        "       [4,5,6],\n",
        "       [7,8,9]]\n",
        " \n",
        "arr = np.array(lst)\n",
        "odd_values = (arr%2 == 1)\n",
        "arr[odd_values] = -2\n",
        "print(\"Old Array Without Numpy:\")\n",
        "print(lst)\n",
        "print(\"New Array With Numpy:\")\n",
        "print(arr)\n"
      ]
    },
    {
      "cell_type": "code",
      "source": [
        "#In the numpy array given below print all the elements ranging from 8 to 15\n",
        "import numpy as np\n",
        "arr = [1,2,3,4,5,8,9,10,12,22,32,54,99,6,7]\n",
        "new_arr = sorted(arr)\n",
        "i = new_arr[7]\n",
        "for i in range(7,11):\n",
        "  print(new_arr[i])"
      ],
      "metadata": {
        "colab": {
          "base_uri": "https://localhost:8080/"
        },
        "id": "JHXY5fmR6BL3",
        "outputId": "50f01bba-c5a8-4c19-ee61-5d60af89e353"
      },
      "execution_count": null,
      "outputs": [
        {
          "output_type": "stream",
          "name": "stdout",
          "text": [
            "8\n",
            "9\n",
            "10\n",
            "12\n"
          ]
        }
      ]
    },
    {
      "cell_type": "code",
      "source": [
        "#Create a 3*3 narray that includes numbers from 1 to 9 and swap columns 1 and 2\n",
        "my_array = np.arange(1,10).reshape(3, 3)\n",
        "\n",
        "my_array[:, [1, 0]] = my_array[:, [0, 1]]\n",
        "\n",
        "print(\"After swapping arrays first column and second column:\")\n",
        "print(my_array)\n"
      ],
      "metadata": {
        "id": "XmlabmsPBPWp",
        "colab": {
          "base_uri": "https://localhost:8080/"
        },
        "outputId": "3f0a31d8-4768-4533-a78c-540530424bd9"
      },
      "execution_count": null,
      "outputs": [
        {
          "output_type": "stream",
          "name": "stdout",
          "text": [
            "After swapping arrays first column and second column:\n",
            "[[2 1 3]\n",
            " [5 4 6]\n",
            " [8 7 9]]\n"
          ]
        }
      ]
    },
    {
      "cell_type": "code",
      "source": [
        "#In the given numpyarray replace the NaN values with the average of columns\n",
        "import numpy as np\n",
        "nparr= np.array([[1.3, 2.5, 3.6, np.nan], [2.6, 3.3, np.nan, 5.5], [2.1, 3.2, 5.4, 6.5]])\n",
        "print(\"Old Array: \")\n",
        "print(nparr)\n",
        "print(\"New Array With Nan Value Replaced: \")\n",
        "print(np.nan_to_num(nparr, nan=np.nanmean(nparr)))"
      ],
      "metadata": {
        "id": "tw6wirhqBPg7",
        "colab": {
          "base_uri": "https://localhost:8080/"
        },
        "outputId": "096db0e4-3a12-4ec3-deee-3346b68e0396"
      },
      "execution_count": null,
      "outputs": [
        {
          "output_type": "stream",
          "name": "stdout",
          "text": [
            "Old Array: \n",
            "[[1.3 2.5 3.6 nan]\n",
            " [2.6 3.3 nan 5.5]\n",
            " [2.1 3.2 5.4 6.5]]\n",
            "New Array With Nan Value Replaced: \n",
            "[[1.3 2.5 3.6 3.6]\n",
            " [2.6 3.3 3.6 5.5]\n",
            " [2.1 3.2 5.4 6.5]]\n"
          ]
        }
      ]
    },
    {
      "cell_type": "code",
      "source": [
        "#For the nump yarray given below perform the following operation\n",
        "import numpy as np\n",
        "arr = [[2,4,6],[1,3,5]]\n",
        "arr_2d = np. reshape(new_arr, (2, 3))\n",
        "new_arr = sorted(arr_2d, key = lambda x : x[0], reverse=False)\n",
        "print(arr_2d)\n",
        "\n"
      ],
      "metadata": {
        "id": "KNC6xJIABPvT",
        "colab": {
          "base_uri": "https://localhost:8080/"
        },
        "outputId": "981dd7fe-6128-42c4-b7a6-26e27fc41c78"
      },
      "execution_count": null,
      "outputs": [
        {
          "output_type": "stream",
          "name": "stdout",
          "text": [
            "[[1 3 5]\n",
            " [2 4 6]]\n"
          ]
        }
      ]
    }
  ]
}