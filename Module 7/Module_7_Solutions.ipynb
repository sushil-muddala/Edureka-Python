{
  "nbformat": 4,
  "nbformat_minor": 0,
  "metadata": {
    "colab": {
      "provenance": [],
      "collapsed_sections": []
    },
    "kernelspec": {
      "name": "python3",
      "display_name": "Python 3"
    },
    "language_info": {
      "name": "python"
    }
  },
  "cells": [
    {
      "cell_type": "code",
      "execution_count": null,
      "metadata": {
        "id": "uFyXjX_1Uhad"
      },
      "outputs": [],
      "source": [
        "#You are given a dataset, which is present in the LMS, containing the number of hurricanes occurring in the United States \n",
        "import pandas as pd\n",
        "import matplotlib.pyplot as plt\n",
        "\n",
        "df = pd.read_csv(\"Hurricanes.csv\")\n",
        "\n",
        "x = df[\"Year\"]\n",
        "y = df[\"Hurricanes\"]\n",
        "\n",
        "plt.bar(x,y)\n",
        "plt.xlabel(\"Year\")\n",
        "plt.ylabel(\"Hurricanes\")\n",
        "plt.grid()\n",
        "plt.title(\"Hurricanes vs Year\")\n",
        "\n",
        "plt.setp(plt.gca().get_xticklabels(), rotation=90, horizontalalignment='right') # Rotate Axis Labels\n",
        "\n",
        "plt.show()"
      ]
    },
    {
      "cell_type": "code",
      "source": [
        "#The dataset given, records data of city temperatures over the years 2014 and 2015.\n",
        "import pandas as pd\n",
        "import matplotlib.pyplot as plt\n",
        "\n",
        "df_temp = pd.read_csv(\"CityTemps.csv\")\n",
        "print(df_temp)\n",
        "\n",
        "x_mosco = df_temp[\"Moscow\"]\n",
        "x_san_Francisco = df_temp[\"San Francisco\"]\n",
        "\n",
        "plt.hist(x_mosco, len(x_mosco), facecolor='blue', alpha=0.5)\n",
        "plt.hist(x_san_Francisco, len(x_san_Francisco), facecolor='red', alpha=0.5)\n",
        "\n",
        "plt.xlabel(\"Temperature\")\n",
        "plt.ylabel(\"Frequency\")\n",
        "plt.title(\"Temperatures of Mosco and San Francisco\")\n",
        "\n",
        "plt.setp(plt.gca().get_xticklabels(), rotation=90, horizontalalignment='right') # Rotate Axis Labels\n",
        "\n",
        "plt.show()"
      ],
      "metadata": {
        "id": "F0YQVyIamjTv"
      },
      "execution_count": null,
      "outputs": []
    },
    {
      "cell_type": "code",
      "source": [
        "#Plot a pie-chart of the number of models released by every manufacturer in the data provide.\n",
        "import matplotlib.pyplot as plt\n",
        "import pandas as pd\n",
        "df = pd.read_csv('Cars2015.csv')\n",
        "d =df.drop(['Model','Type','LowPrice','HighPrice','Drive','CityMPG','HwyMPG','FuelCap','Length'], axis=1)\n",
        "df =df.drop(['Width','Wheelbase','Height','UTurn','Weight','Acc030','Acc060'],axis=1)\n",
        "df = df.drop(['QtrMile','PageNum','Size'],axis=1)"
      ],
      "metadata": {
        "id": "dh6GxpnxmjaK"
      },
      "execution_count": null,
      "outputs": []
    },
    {
      "cell_type": "code",
      "source": [
        "#Use sample csv to do the following(CSV NOT FOUND)\n",
        "import pandas as pd\n",
        "\n",
        "df_data_file = pd.read_csv(\"sample-sales.csv\")"
      ],
      "metadata": {
        "id": "IPLmtiU2mmLU"
      },
      "execution_count": null,
      "outputs": []
    },
    {
      "cell_type": "code",
      "source": [
        "#Let the x-axis data points and y-axis data points are\n",
        "import pandas as pd\n",
        "import matplotlib.pyplot as plt\n",
        "import numpy as np\n",
        "\n",
        "X = [1, 2, 3, 4]\n",
        "Y = [20, 21, 20.5, 20.8]\n",
        "\n",
        "\n",
        "plt.plot(X, Y)\n",
        "plt.show()\n",
        "\n",
        "\n",
        "plt.plot(X, Y)\n",
        "plt.grid()\n",
        "plt.show()\n",
        "\n",
        "\n",
        "plt.setp(plt.gca().get_xticklabels(), rotation=90,\n",
        "         horizontalalignment='right')  # Rotate Axis Labels\n",
        "\n",
        "plt.plot(X, Y)\n",
        "plt.xlabel(\"x\")\n",
        "plt.ylabel(\"y\")\n",
        "plt.show()\n",
        "\n",
        "y_error = [0.12, 0.13, 0.2, 0.1]\n",
        "\n",
        "plt.plot(X, Y, y_error)\n",
        "plt.xlabel(\"x\")\n",
        "plt.ylabel(\"y\")\n",
        "plt.show()\n",
        "\n",
        "plt.rcParams.update({'font.size': 14})\n",
        "\n",
        "\n",
        "x = np.random.random(50)\n",
        "y = np.random.random(50)\n",
        "\n",
        "plt.scatter(x, y)\n",
        "plt.show()\n",
        "\n",
        "df = pd.DataFrame({\n",
        "    'first_name': ['Jason', 'Molly', 'Tina', 'Jake', 'Amy'],\n",
        "    'last_name': ['Miller', 'Jacobson', 'Ali', 'Milner', 'Cooze'],\n",
        "    'female': [0, 1, 1, 0, 1],\n",
        "    'age': [42, 52, 36, 24, 73],\n",
        "    'preTestScore': [4, 24, 31, 2, 3],\n",
        "    'postTestScore': [25, 94, 57, 62, 70]\n",
        "})\n",
        "\n",
        "plt.scatter(df[\"preTestScore\"], df[\"postTestScore\"])\n",
        "plt.xlabel(\"preTestScore\")\n",
        "plt.ylabel(\"postTestScore\")\n",
        "plt.title(\"preTestScore vs postTestScore\")\n",
        "plt.legend([\"preTestScore\", \"postTestScore\"])\n",
        "plt.show()\n",
        "\n",
        "\n",
        "df = pd.DataFrame({\n",
        "    'first_name': ['Jason', 'Molly', 'Tina', 'Jake', 'Amy'],\n",
        "    'last_name': ['Miller', 'Jacobson', 'Ali', 'Milner', 'Cooze'],\n",
        "    'female': [0, 1, 1, 0, 1],\n",
        "    'age': [42, 52, 36, 24, 73],\n",
        "    'preTestScore': [4, 24, 31, 2, 3],\n",
        "    'postTestScore': [25, 94, 57, 62, 70]\n",
        "})\n",
        "\n",
        "x = df[\"preTestScore\"]\n",
        "y = df[\"postTestScore\"]\n",
        "colors = df[\"female\"]\n",
        "\n",
        "plt.scatter(x, y, c=colors, alpha=0.5)\n",
        "plt.xlabel(\"preTestScore\")\n",
        "plt.ylabel(\"postTestScore\")\n",
        "plt.title(\"preTestScore vs postTestScore\")\n",
        "plt.legend([\"preTestScore\", \"postTestScore\"])\n",
        "plt.show()"
      ],
      "metadata": {
        "id": "OXFfD2ulmmQf"
      },
      "execution_count": null,
      "outputs": []
    },
    {
      "cell_type": "code",
      "source": [
        "#Case Study Question 1 Part 1\n",
        "import pandas as pd\n",
        "import matplotlib as plt\n",
        "\n",
        "df = pd.read_csv(\"BigMartSalesData.csv\")\n",
        "\n",
        "df_grouped_year = df.query(\"Year == 2011\").filter(\n",
        "    [\"Month\", \"Amount\"]).groupby([\"Month\"], as_index=False).sum()\n",
        "\n",
        "x = df_grouped_year[\"Month\"]\n",
        "y = df_grouped_year[\"Amount\"]\n",
        "\n",
        "plt.plot(x, y)\n",
        "plt.xlabel(\"Month\")\n",
        "plt.ylabel(\"Total Sales\")\n",
        "plt.title(\"Month vs sales\")\n",
        "plt.grid()\n",
        "plt.show()\n"
      ],
      "metadata": {
        "id": "j6y-YBqRmmTU"
      },
      "execution_count": null,
      "outputs": []
    },
    {
      "cell_type": "code",
      "source": [
        "#Case Study Question 1 Part 2\n",
        "import pandas as pd\n",
        "import matplotlib as plt\n",
        "\n",
        "df = pd.read_csv(\"BigMartSalesData.csv\")\n",
        "\n",
        "df_grouped_year = df.query(\"Year == 2011\").filter(\n",
        "    [\"Month\", \"Amount\"]).groupby([\"Month\"], as_index=False).sum()\n",
        "\n",
        "# Plot Total Sales Per Month for Year 2011 as Bar Chart.\n",
        "x = df_grouped_year[\"Month\"]\n",
        "y = df_grouped_year[\"Amount\"]\n",
        "\n",
        "plt.plot(x, y)\n",
        "plt.xlabel(\"Month\")\n",
        "plt.ylabel(\"Total Sales\")\n",
        "plt.title(\"Month vs sales\")\n",
        "plt.grid()\n",
        "plt.show()"
      ],
      "metadata": {
        "id": "K1ghbhYymtS4"
      },
      "execution_count": null,
      "outputs": []
    },
    {
      "cell_type": "code",
      "source": [
        "#Case Study Question 2\n",
        "import pandas as pd\n",
        "import matplotlib as plt\n",
        "\n",
        "df = pd.read_csv(\"BigMartSalesData.csv\")\n",
        "\n",
        "df_grouped_country = df.query(\"Year == 2011\").filter(\n",
        "    [\"Country\", \"Amount\"]).groupby([\"Country\"], as_index=False).sum()\n",
        "\n",
        "plt.pie(df_grouped_country[\"Amount\"],\n",
        "        labels=df_grouped_country[\"Country\"],\n",
        "        autopct='%1.1f%%',\n",
        "        shadow=True)\n",
        "\n",
        "plt.tight_layout()\n",
        "plt.show()"
      ],
      "metadata": {
        "id": "I0Qv7Mrcm4ha"
      },
      "execution_count": null,
      "outputs": []
    },
    {
      "cell_type": "code",
      "source": [
        "#Case Study Question 3\n",
        "import pandas as pd\n",
        "import matplotlib as plt\n",
        "\n",
        "df = pd.read_csv(\"BigMartSalesData.csv\")\n",
        "\n",
        "\n",
        "invoice_amounts = df.filter([\"InvoiceDate\", \"Amount\"]).groupby(\n",
        "    \"InvoiceDate\", as_index=False).sum()\n",
        "\n",
        "plt.scatter(invoice_amounts[\"InvoiceDate\"], invoice_amounts[\"Amount\"])\n",
        "plt.ylim(20000, 100000)\n",
        "plt.show()"
      ],
      "metadata": {
        "id": "eQkpQINVnJec"
      },
      "execution_count": null,
      "outputs": []
    }
  ]
}