{
  "nbformat": 4,
  "nbformat_minor": 0,
  "metadata": {
    "colab": {
      "provenance": [],
      "collapsed_sections": []
    },
    "kernelspec": {
      "name": "python3",
      "display_name": "Python 3"
    },
    "language_info": {
      "name": "python"
    }
  },
  "cells": [
    {
      "cell_type": "code",
      "execution_count": null,
      "metadata": {
        "id": "Q7HCKezv-74h"
      },
      "outputs": [],
      "source": [
        "#Import Modules - All throughout the course\n",
        "import numpy as np\n",
        "import matplotlib\n",
        "import folium\n",
        "import mysql\n",
        "import pandas as pd\n",
        "import seaborn as sns "
      ]
    },
    {
      "cell_type": "code",
      "source": [
        "#Find the number of distinct bookings, sessions, and searches from the given datasets - Bookings.csv - Q1\n",
        "import pandas as pd\n",
        "df = pd.read_csv(\"C:\\\\Users\\\\Sushil\\\\Edureka Notebooks\\\\Final Project Resources\\\\Bookings.csv\")\n",
        "\n",
        "#Use pd.unique funtion to get distinct bookings\n",
        "n = len(pd.unique(df['booking_id'])) \n",
        "print(\"Number of Distinct Bookings in Bookings.csv :\",  n)\n",
        "\n",
        "print(\"No Sessions and Searches in this Dataset.\")\n"
      ],
      "metadata": {
        "id": "sJ-8kazII5e_"
      },
      "execution_count": null,
      "outputs": []
    },
    {
      "cell_type": "code",
      "source": [
        "#Find the number of distinct bookings, sessions, and searches from the given datasets - Sessions.csv - Q1\n",
        "df = pd.read_csv(\"C:\\\\Users\\\\Sushil\\\\Edureka Notebooks\\\\Final Project Resources\\\\Sessions.csv\")\n",
        "\n",
        "#Compute -- Use same function above for this datset\n",
        "ns = len(pd.unique(df['session_id'])) \n",
        "print(\"Number of Distinct Sessions in Sessions.csv :\",  ns)\n",
        "\n",
        "ni = len(pd.unique(df['search_id'])) \n",
        "print(\"Number of Distinct Searches in Sessions.csv :\",  ni)\n",
        "\n",
        "ni = len(pd.unique(df['booking_id'])) \n",
        "print(\"Number of Distinct Bookings in Sessions.csv :\",  ni)"
      ],
      "metadata": {
        "id": "8pfPRQ6SI7qd"
      },
      "execution_count": null,
      "outputs": []
    },
    {
      "cell_type": "code",
      "source": [
        "#How many sessions have more than one booking? - Q2\n",
        "df = pd.read_csv(\"C:\\\\Users\\\\Sushil\\\\Edureka Notebooks\\\\Final Project Resources\\\\Sessions.csv\")\n",
        "\n",
        "#Compute -- Use a string split\n",
        "#Use a value counts to after computing \n",
        "a = df['booking_id'].str.split('|', expand=True).stack().value_counts()\n",
        "\n",
        "#Use len to figure out the total number and not a list\n",
        "b = len(a)\n",
        "\n",
        "print(f\"There are {b} sessions that have more than 1 booking.\" )"
      ],
      "metadata": {
        "id": "ybhhpPFEI8I6"
      },
      "execution_count": null,
      "outputs": []
    },
    {
      "cell_type": "code",
      "source": [
        "#For each of the service names,display the total number of bookings and the total Gross Booking Value in INR - Q4\n",
        "df = pd.read_csv(\"C:\\\\Users\\\\Sushil\\\\Edureka Notebooks\\\\Final Project Resources\\\\Bookings.csv\")\n",
        "\n",
        "#Find out the sum between booking id and service name\n",
        "Total =  df.groupby(['booking_id','service_name']).sum()\n",
        "\n",
        "#Use len because of the same reason before(Q2)\n",
        "new_total = len(Total)\n",
        "\n",
        "print(f\"For each of the service names there is {new_total} bookings.\")"
      ],
      "metadata": {
        "id": "OMRNC1U3k66R"
      },
      "execution_count": null,
      "outputs": []
    },
    {
      "cell_type": "code",
      "source": [
        "#For each of the service names,display the total number of bookings and the total Gross Booking Value in INR - Q4\n",
        "df = pd.read_csv(\"C:\\\\Users\\\\Sushil\\\\Edureka Notebooks\\\\Final Project Resources\\\\Bookings.csv\")\n",
        "\n",
        "#Use same technique as before but without len\n",
        "#Len is not needed since we are trying to find out what the total is\n",
        "Total = df['INR_Amount'].sum()\n",
        "\n",
        "print(f\"For each of the service names there is {Total} INR all together.\")"
      ],
      "metadata": {
        "id": "T7LlteyKGb4R"
      },
      "execution_count": null,
      "outputs": []
    },
    {
      "cell_type": "code",
      "source": [
        "#For customers who have more than 1 booking, which is the most booked route (from_city to to_city)? - Q5\n",
        "df = pd.read_csv(\"C:\\\\Users\\\\Sushil\\\\Edureka Notebooks\\\\Final Project Resources\\\\Bookings.csv\")\n",
        "\n",
        "#Filter out the the bookings to more than 1\n",
        "df1 = df.groupby(['customer_id']).filter(lambda x: len(x) > 1)\n",
        "\n",
        "#Find out size and then find out index max to found the most booked route; after filtering \n",
        "df2 = df1.groupby(['from_city','to_city']).size().idxmax()\n",
        "\n",
        "print(f\"The most booked route for customer who have more than one booking is {df2}.\")"
      ],
      "metadata": {
        "id": "zV-SjqAtGb9R"
      },
      "execution_count": null,
      "outputs": []
    },
    {
      "cell_type": "code",
      "source": [
        "#Which are the top 3 departure cities - Q6\n",
        "df = pd.read_csv(\"C:\\\\Users\\\\Sushil\\\\Edureka Notebooks\\\\Final Project Resources\\\\Bookings.csv\")\n",
        "\n",
        "#Booking in advance(advance = >1)\n",
        "#Filtering all those days including 0 and 1\n",
        "df1 = df.groupby(['days_to_departure']).filter(lambda x: len(x) > 1)\n",
        "\n",
        "#Filter out with at least 5 departue cities using the same lambda func. as before\n",
        "df2 = df1.groupby(['from_city']).filter(lambda x: len(x) >= 5)\n",
        "\n",
        "#Use unique to find the from_city \n",
        "df3 = (pd.unique(df2['from_city']))\n",
        "\n",
        "#Read the data to figure out the top 3 cities\n",
        "print(df3)\n",
        "\n",
        "print(\"The top three cities with as least 5 departures is Gurgaon, Mumbai, and Dehli.\")"
      ],
      "metadata": {
        "id": "iyrGjsZHGcAP"
      },
      "execution_count": null,
      "outputs": []
    },
    {
      "cell_type": "code",
      "source": [
        "#Plot a heatmap - Q7\n",
        "data = pd.read_csv(\"C:\\\\Users\\\\Sushil\\\\Edureka Notebooks\\\\Final Project Resources\\Bookings.csv\")\n",
        "#Using the heatmap can help easily identify the max. correlation\n",
        "corr = data.corr()\n",
        "ax = sns.heatmap(\n",
        "    corr, \n",
        "    vmin=-1, vmax=1, center=0,\n",
        "    cmap=sns.diverging_palette(20, 220, n=200),\n",
        "    square=True\n",
        ")\n",
        "ax.set_xticklabels(\n",
        "    ax.get_xticklabels(),\n",
        "    rotation=45,\n",
        "    horizontalalignment='right'\n",
        ");\n",
        "\n",
        "#Read heatmap and provide answer\n",
        "print(\"The pair of numerical columns that have the maximum correlation is 'INR_Amount' and 'distance_km'.\")"
      ],
      "metadata": {
        "id": "Cilpu4KeGcCm"
      },
      "execution_count": null,
      "outputs": []
    },
    {
      "cell_type": "code",
      "source": [
        "#For each service, which is the most used device type for making bookings on the platform?  Q8\n",
        "df = pd.read_csv(\"C:\\\\Users\\\\Sushil\\\\Edureka Notebooks\\\\Final Project Resources\\Bookings.csv\")\n",
        "#Figure out the size of the dataframe and columns\n",
        "df1 = df.groupby(['device_type_used','service_name']).size()\n",
        "\n",
        "#Analyze the DF\n",
        "print(df1)\n",
        "\n",
        "#Answer the prompt\n",
        "print(\"For GOIBIBO it is IOS, for YATRA is Desktopm and for MMT it is Desktop.\")"
      ],
      "metadata": {
        "id": "Zjwp2Vn4GcFL"
      },
      "execution_count": null,
      "outputs": []
    }
  ]
}