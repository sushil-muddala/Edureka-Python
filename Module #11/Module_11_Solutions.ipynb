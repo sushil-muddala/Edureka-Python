{
  "nbformat": 4,
  "nbformat_minor": 0,
  "metadata": {
    "colab": {
      "provenance": [],
      "collapsed_sections": []
    },
    "kernelspec": {
      "name": "python3",
      "display_name": "Python 3"
    },
    "language_info": {
      "name": "python"
    }
  },
  "cells": [
    {
      "cell_type": "code",
      "execution_count": null,
      "metadata": {
        "id": "EZgMlrFeESSc"
      },
      "outputs": [],
      "source": [
        "#Module 11 \n",
        "import mysql.connector\n",
        "\n",
        "retails = mysql.connector.connect(\n",
        "  host=\"localhost\",\n",
        "  user=\"yourusername\",\n",
        "  password=\"yourpassword\"\n",
        ")\n",
        "\n",
        "mycursor = retails.cursor()\n",
        "\n",
        "mycursor.execute(\"CREATE DATABASE mydatabase\")"
      ]
    },
    {
      "cell_type": "code",
      "source": [
        "#Module 11 \n",
        "import mysql.connector\n",
        "\n",
        "retails = mysql.connector.connect(\n",
        "  host=\"localhost\",\n",
        "  user=\"yourusername\",\n",
        "  password=\"yourpassword\",\n",
        "  database=\"mydatabase\"\n",
        ")\n",
        "\n",
        "mycursor = retails.cursor()\n",
        "\n",
        "mycursor.execute(\"CREATE TABLE customers (customer VARCHAR(255), orders VARCHAR(255))\")"
      ],
      "metadata": {
        "id": "ByYUrZsPEvFA"
      },
      "execution_count": null,
      "outputs": []
    },
    {
      "cell_type": "code",
      "source": [
        "#Module 11 \n",
        "import mysql.connector\n",
        "\n",
        "retails = mysql.connector.connect(\n",
        "  host=\"localhost\",\n",
        "  user=\"yourusername\",\n",
        "  password=\"yourpassword\",\n",
        "  database=\"mydatabase\"\n",
        ")\n",
        "\n",
        "mycursor = retails.cursor()\n",
        "\n",
        "mycursor.execute(\"ALTER TABLE customers ADD COLUMN id INT AUTO_INCREMENT PRIMARY KEY\")"
      ],
      "metadata": {
        "id": "QE1sDHRjEvJn"
      },
      "execution_count": null,
      "outputs": []
    },
    {
      "cell_type": "code",
      "source": [
        "#Module 11 \n",
        "import mysql.connector\n",
        "\n",
        "retails = mysql.connector.connect(\n",
        "  host=\"localhost\",\n",
        "  user=\"yourusername\",\n",
        "  password=\"yourpassword\",\n",
        "  database=\"mydatabase\"\n",
        ")\n",
        "\n",
        "mycursor = retails.cursor()\n",
        "\n",
        "sql = \"INSERT INTO customers (customer) VALUES (rank, age, location,gender)\"\n",
        "val = [\n",
        "  (1001, 34, 'Austin', 'male'),\n",
        "  (1002, 37, 'Houston', 'male'),\n",
        "  (1003, 25, 'Austin', 'female'),\n",
        "  (1004, 28, 'Houston', 'female'),\n",
        "  (1005, 22, 'Dallas', 'male')\n",
        "]\n",
        "\n",
        "mycursor.executemany(sql, val)\n",
        "\n",
        "retails.commit()\n",
        "\n",
        "print(mycursor.rowcount, \"was inserted.\")"
      ],
      "metadata": {
        "id": "bcWUG5jPEvMd"
      },
      "execution_count": null,
      "outputs": []
    },
    {
      "cell_type": "code",
      "source": [
        "#Module 11 \n",
        "import mysql.connector\n",
        "\n",
        "retails = mysql.connector.connect(\n",
        "  host=\"localhost\",\n",
        "  user=\"yourusername\",\n",
        "  password=\"yourpassword\",\n",
        "  database=\"mydatabase\"\n",
        ")\n",
        "\n",
        "mycursor = retails.cursor()\n",
        "\n",
        "\n",
        "mycursor.execute(\"SELECT customers, customer FROM Austin\")"
      ],
      "metadata": {
        "id": "P_RDZsoeEvO7"
      },
      "execution_count": null,
      "outputs": []
    },
    {
      "cell_type": "code",
      "source": [
        "#Module 11 \n",
        "import mysql.connector\n",
        "\n",
        "retails = mysql.connector.connect(\n",
        "  host=\"localhost\",\n",
        "  user=\"yourusername\",\n",
        "  password=\"yourpassword\",\n",
        "  database=\"mydatabase\"\n",
        ")\n",
        "\n",
        "mycursor = retails.cursor()\n",
        "\n",
        "\n",
        "mycursor.execute(\"SELECT customer FROM customers GROUP BY location\")"
      ],
      "metadata": {
        "id": "1mXMbquKEvRT"
      },
      "execution_count": null,
      "outputs": []
    },
    {
      "cell_type": "code",
      "source": [
        "#Module 11 \n",
        "import mysql.connector\n",
        "\n",
        "retails = mysql.connector.connect(\n",
        "  host=\"localhost\",\n",
        "  user=\"yourusername\",\n",
        "  password=\"yourpassword\",\n",
        "  database=\"mydatabase\"\n",
        ")\n",
        "\n",
        "mycursor = retails.cursor()\n",
        "\n",
        "\n",
        "mycursor.execute(\"SELECT customer FROM customers GROUP BY gender\")"
      ],
      "metadata": {
        "id": "fSrFzrAsEvUI"
      },
      "execution_count": null,
      "outputs": []
    },
    {
      "cell_type": "code",
      "source": [
        "#Module 11 \n",
        "import mysql.connector\n",
        "\n",
        "retails = mysql.connector.connect(\n",
        "  host=\"localhost\",\n",
        "  user=\"yourusername\",\n",
        "  password=\"yourpassword\",\n",
        "  database=\"mydatabase\"\n",
        ")\n",
        "\n",
        "mycursor = retails.cursor()\n",
        "\n",
        "sql_1= \"INSERT INTO orders (order) VALUES (date,order_amount,integer)\"\n",
        "val_1 = [\n",
        "  ('2022-10-1', 100.25, 1),\n",
        "  ('2022-10-2',200.75, 2),\n",
        "  ('2022-10-3',500.00,3),\n",
        "  ('2022-10-3', 600.00,4),\n",
        "  ('2022-10-4', 600.00,5)\n",
        "]\n",
        "\n",
        "mycursor.executemany(sql_1, val_1)\n",
        "\n",
        "retails.commit()\n",
        "\n",
        "print(mycursor.rowcount, \"was inserted.\")"
      ],
      "metadata": {
        "id": "dofvN61SEvWZ"
      },
      "execution_count": null,
      "outputs": []
    },
    {
      "cell_type": "code",
      "source": [
        "#Module 11 \n",
        "import mysql.connector\n",
        "\n",
        "retails = mysql.connector.connect(\n",
        "  host=\"localhost\",\n",
        "  user=\"yourusername\",\n",
        "  password=\"yourpassword\",\n",
        "  database=\"mydatabase\"\n",
        ")\n",
        "\n",
        "mycursor = retails.cursor()\n",
        "\n",
        "\n",
        "mycursor.execute(\"SELECT orders FROM retails SHOW date WHERE date = '2022-10-3'\")"
      ],
      "metadata": {
        "id": "PqOLuVoDEvY3"
      },
      "execution_count": null,
      "outputs": []
    },
    {
      "cell_type": "code",
      "source": [
        "#Module 11 \n",
        "import mysql.connector\n",
        "\n",
        "retails = mysql.connector.connect(\n",
        "  host=\"localhost\",\n",
        "  user=\"yourusername\",\n",
        "  password=\"yourpassword\",\n",
        "  database=\"mydatabase\"\n",
        ")\n",
        "\n",
        "mycursor = retails.cursor()\n",
        "\n",
        "\n",
        "mycursor.execute(\"SELECT orders FROM retails SHOW date WHERE date = order_amount>=300\")"
      ],
      "metadata": {
        "id": "R5MoA9ELEvbR"
      },
      "execution_count": null,
      "outputs": []
    },
    {
      "cell_type": "code",
      "source": [
        "#Module 11 \n",
        "import mysql.connector\n",
        "\n",
        "retails = mysql.connector.connect(\n",
        "  host=\"localhost\",\n",
        "  user=\"yourusername\",\n",
        "  password=\"yourpassword\",\n",
        "  database=\"mydatabase\"\n",
        ")\n",
        "\n",
        "mycursor = retails.cursor()\n",
        "\n",
        "\n",
        "mycursor.execute(\"SELECT orders FROM retails WHERE date = '2022-10-3' ORDER BY order_amount\")"
      ],
      "metadata": {
        "id": "dTvzra3lEvdw"
      },
      "execution_count": null,
      "outputs": []
    },
    {
      "cell_type": "code",
      "source": [
        "#Module 11 \n",
        "import mysql.connector\n",
        "\n",
        "retails = mysql.connector.connect(\n",
        "  host=\"localhost\",\n",
        "  user=\"yourusername\",\n",
        "  password=\"yourpassword\",\n",
        "  database=\"mydatabase\"\n",
        ")\n",
        "\n",
        "mycursor = retails.cursor()\n",
        "\n"
      ],
      "metadata": {
        "id": "acY2IWI1E5R0"
      },
      "execution_count": null,
      "outputs": []
    },
    {
      "cell_type": "code",
      "source": [
        "#Module 11 \n",
        "import mysql.connector\n",
        "\n",
        "retails = mysql.connector.connect(\n",
        "  host=\"localhost\",\n",
        "  user=\"yourusername\",\n",
        "  password=\"yourpassword\",\n",
        "  database=\"mydatabase\"\n",
        ")\n",
        "\n",
        "mycursor = retails.cursor()\n",
        "mycursor.execute(\"SELECT orders, AVG(order_amount) 'Average Order Amount'FROM retails GROUP BY orders;\")\n"
      ],
      "metadata": {
        "id": "7ZSCSaiBE5W_"
      },
      "execution_count": null,
      "outputs": []
    }
  ]
}