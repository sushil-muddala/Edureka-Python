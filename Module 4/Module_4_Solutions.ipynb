{
  "nbformat": 4,
  "nbformat_minor": 0,
  "metadata": {
    "colab": {
      "provenance": [],
      "collapsed_sections": []
    },
    "kernelspec": {
      "name": "python3",
      "display_name": "Python 3"
    },
    "language_info": {
      "name": "python"
    }
  },
  "cells": [
    {
      "cell_type": "code",
      "execution_count": null,
      "metadata": {
        "colab": {
          "base_uri": "https://localhost:8080/"
        },
        "id": "r9RVJPswKWRI",
        "outputId": "e522a89f-72d2-49a8-f586-b2a930949120"
      },
      "outputs": [
        {
          "output_type": "stream",
          "name": "stdout",
          "text": [
            "Enter robot steps in 'UP 00 or DOWN 00 or LEFT 00 or RIGHT 00' format:UP 1\n",
            "Enter robot steps in 'UP 00 or DOWN 00 or LEFT 00 or RIGHT 00' format:DOWN 2\n",
            "Enter robot steps in 'UP 00 or DOWN 00 or LEFT 00 or RIGHT 00' format:LEFT 3\n",
            "Enter robot steps in 'UP 00 or DOWN 00 or LEFT 00 or RIGHT 00' format:RIGHT 4\n",
            "Enter robot steps in 'UP 00 or DOWN 00 or LEFT 00 or RIGHT 00' format:\n",
            "x, y position of robot is:  1 , -1\n"
          ]
        }
      ],
      "source": [
        "#Write a program to compute the current distance from the origin point after sequencing of movements.\n",
        "import math\n",
        "\n",
        "x = y = 0\n",
        "\n",
        "while True:\n",
        "    robot_step = input(\"Enter robot steps in 'UP 00 or DOWN 00 or LEFT 00 or RIGHT 00' format:\")\n",
        "    \n",
        "    if robot_step == \"\":\n",
        "        break\n",
        "        \n",
        "    else:\n",
        "        steps = robot_step.split()\n",
        "        direc = steps[0]\n",
        "        dist = int(steps[1])\n",
        "        \n",
        "        if direc == 'UP':\n",
        "            y = y + dist\n",
        "        elif direc == 'DOWN':\n",
        "            y = y - dist\n",
        "        elif direc == 'RIGHT':\n",
        "            x = x + dist\n",
        "        elif direc == 'LEFT':\n",
        "            x = x - dist\n",
        "\n",
        "print(\"x, y position of robot is: \",x,',',y,)\n"
      ]
    },
    {
      "cell_type": "code",
      "source": [
        "#Data of XYZ company is stored in a sorted list. Write a program to search for specific data from that list.\n",
        "string = input(\"Enter list of items (comma seperated): \")\n",
        "find_ele = input(\"Enter the elements which needs to find: \")\n",
        "\n",
        "list_eles = str(string).split(\",\")\n",
        "\n",
        "if find_ele in list_eles:\n",
        "    print(f\"{find_ele} is present in given list at position {list_eles.index(find_ele)+1}\")\n",
        "else:\n",
        "    print(f\"{find_ele} is not present in given list\")"
      ],
      "metadata": {
        "colab": {
          "base_uri": "https://localhost:8080/"
        },
        "id": "ZaJOu2jULKN4",
        "outputId": "47b9d769-3293-4d93-ec1d-dcb61556ab9a"
      },
      "execution_count": null,
      "outputs": [
        {
          "output_type": "stream",
          "name": "stdout",
          "text": [
            "Enter list of items (comma seperated)>>> 12,dollars,bucks,54\n",
            "Enter the elements which needs to find>>> 12\n",
            "12 is present in given list at position 1\n"
          ]
        }
      ]
    },
    {
      "cell_type": "code",
      "source": [
        "#A weather forecasting organization wants to show whether it is day or night. Write a program to findwhether is it dark outside or notbased on the local system time.\n",
        "import time\n",
        "mytime = time.localtime()\n",
        "if mytime.tm_hour < 6 or mytime.tm_hour > 18:\n",
        "    print ('It is night-time')\n",
        "else:\n",
        "    print ('It is day-time')\n"
      ],
      "metadata": {
        "colab": {
          "base_uri": "https://localhost:8080/"
        },
        "id": "WiE6VM52LKVH",
        "outputId": "880d9da2-c513-4329-87d8-ca225dda424a"
      },
      "execution_count": null,
      "outputs": [
        {
          "output_type": "stream",
          "name": "stdout",
          "text": [
            "It is night-time\n"
          ]
        }
      ]
    },
    {
      "cell_type": "code",
      "source": [
        "#Write a program to find the distance between two locations when their latitude and longitudes are given\n",
        "from math import sin, cos, sqrt, atan2, radians\n",
        "\n",
        "# approximate radius of earth in km\n",
        "R = 6373.0\n",
        "\n",
        "lat1 = radians(52.2296756)\n",
        "lon1 = radians(21.0122287)\n",
        "lat2 = radians(52.406374)\n",
        "lon2 = radians(16.9251681)\n",
        "\n",
        "dlon = lon2 - lon1\n",
        "dlat = lat2 - lat1\n",
        "\n",
        "a = sin(dlat / 2)**2 + cos(lat1) * cos(lat2) * sin(dlon / 2)**2\n",
        "c = 2 * atan2(sqrt(a), sqrt(1 - a))\n",
        "\n",
        "distance = R * c\n",
        "new_distance = round(distance ,2 )\n",
        "message = f\"Result: {new_distance} km apart\"\n",
        "print(message)\n"
      ],
      "metadata": {
        "colab": {
          "base_uri": "https://localhost:8080/"
        },
        "id": "trc95_ufNDGy",
        "outputId": "356a0b34-cc59-4bb6-b16f-2ed59598159f"
      },
      "execution_count": null,
      "outputs": [
        {
          "output_type": "stream",
          "name": "stdout",
          "text": [
            "Result: 278.55 km apart\n"
          ]
        }
      ]
    },
    {
      "cell_type": "code",
      "source": [
        "#Design a banking system software \n",
        "total_cash = 500\n",
        "print(\"Welcome To The Online Bank!\")\n",
        "print(f\"You Current Balance is ${total_cash}\")\n",
        "print(\"Please Select Your Options: \\n 1 For Cash Widthdrawl\\n 2 For Cash Deposit\\n 3 For Change Password\")\n",
        "options = int(input())\n",
        "if options == 1:\n",
        "  print(\"You Selected Cash Widthdrawal.\")\n",
        "  print(\"How Much Would Like To Widthdraw?\")\n",
        "  cashW = int(input())\n",
        "  print(f\"You Widthdrew ${cashW}.\")\n",
        "  total_cash = total_cash - cashW\n",
        "  print(f\"Your Balance is: ${total_cash}.\")\n",
        "elif options == 2:\n",
        "  print(\"You Selected Cash Deposit.\")\n",
        "  print(\"How Much Would You Like To Deposit\")\n",
        "  cashD = int(input())\n",
        "  total_cash = total_cash + cashD\n",
        "  print(f\"You Deposited ${cashD}. \")\n",
        "  print(f\"Your Balance is: ${total_cash}.\")\n",
        "else:\n",
        "  print(\"You Selected Change Password\")\n",
        "  print(\"Please Enter Your New Password:\")\n",
        "  new_password = str(input())\n",
        "  print(f\"Your Password has changed to {new_password}.\")\n",
        "\n",
        "\n"
      ],
      "metadata": {
        "colab": {
          "base_uri": "https://localhost:8080/"
        },
        "id": "CyH8koJjOo2R",
        "outputId": "e99eb78b-1071-4761-8f81-bae978a81273"
      },
      "execution_count": null,
      "outputs": [
        {
          "output_type": "stream",
          "name": "stdout",
          "text": [
            "Welcome To The Online Bank!\n",
            "You Current Balance is $500\n",
            "Please Select Your Options: \n",
            " 1 For Cash Widthdrawl\n",
            " 2 For Cash Deposit\n",
            " 3 For Change Password\n",
            "1\n",
            "You Selected Cash Widthdrawal.\n",
            "How Much Would Like To Widthdraw?\n",
            "300\n",
            "You Widthdrew $300.\n",
            "Your Balance is: $200.\n"
          ]
        }
      ]
    },
    {
      "cell_type": "code",
      "source": [
        "#Write a prograthatch will find all numbers which are divisible by 7 \n",
        "by7_notby5 = [i for i in range(2000, 3201) if (i % 7 == 0) and (i % 5 != 0)]\n",
        "print(by7_notby5)"
      ],
      "metadata": {
        "colab": {
          "base_uri": "https://localhost:8080/"
        },
        "id": "0rVxLJgyOo-y",
        "outputId": "e66b31f8-ff43-489f-d3fe-f69ed4b92f8f"
      },
      "execution_count": null,
      "outputs": [
        {
          "output_type": "stream",
          "name": "stdout",
          "text": [
            "[2002, 2009, 2016, 2023, 2037, 2044, 2051, 2058, 2072, 2079, 2086, 2093, 2107, 2114, 2121, 2128, 2142, 2149, 2156, 2163, 2177, 2184, 2191, 2198, 2212, 2219, 2226, 2233, 2247, 2254, 2261, 2268, 2282, 2289, 2296, 2303, 2317, 2324, 2331, 2338, 2352, 2359, 2366, 2373, 2387, 2394, 2401, 2408, 2422, 2429, 2436, 2443, 2457, 2464, 2471, 2478, 2492, 2499, 2506, 2513, 2527, 2534, 2541, 2548, 2562, 2569, 2576, 2583, 2597, 2604, 2611, 2618, 2632, 2639, 2646, 2653, 2667, 2674, 2681, 2688, 2702, 2709, 2716, 2723, 2737, 2744, 2751, 2758, 2772, 2779, 2786, 2793, 2807, 2814, 2821, 2828, 2842, 2849, 2856, 2863, 2877, 2884, 2891, 2898, 2912, 2919, 2926, 2933, 2947, 2954, 2961, 2968, 2982, 2989, 2996, 3003, 3017, 3024, 3031, 3038, 3052, 3059, 3066, 3073, 3087, 3094, 3101, 3108, 3122, 3129, 3136, 3143, 3157, 3164, 3171, 3178, 3192, 3199]\n"
          ]
        }
      ]
    },
    {
      "cell_type": "code",
      "source": [
        "#Write  a  prograthatch that can  compute  the  factorial ofgiven  numbers.  Use recursion to find it.\n",
        "def recur_factorial(n):\n",
        "   if n == 1:\n",
        "       return n\n",
        "   else:\n",
        "       return n*recur_factorial(n-1)\n",
        "\n",
        "num = int(input(\"Enter An Integer: \"))\n",
        "\n",
        "# check if the number is negative\n",
        "if num < 0:\n",
        "   print(\"Sorry, factorial does not exist for negative numbers\")\n",
        "elif num == 0:\n",
        "   print(\"The factorial of 0 is 1\")\n",
        "else:\n",
        "   print(\"The factorial of\", num, \"is\", recur_factorial(num))\n"
      ],
      "metadata": {
        "colab": {
          "base_uri": "https://localhost:8080/"
        },
        "id": "kN0Cac_kOpJU",
        "outputId": "465d46df-11f8-4c79-8a7d-418c04ea4710"
      },
      "execution_count": null,
      "outputs": [
        {
          "output_type": "stream",
          "name": "stdout",
          "text": [
            "Please Enter A Number To Compute The Factorial: 10\n",
            "The Answer is:\n",
            "3628800\n"
          ]
        }
      ]
    },
    {
      "cell_type": "code",
      "source": [
        "#Write  a  program  that  calculates  and  prints  the value  according  to  the  given formula\n",
        "import math\n",
        "print(\"Welcome! Please Enter Your Number(s) sperated by commas!\\nLook For the Integer(s) below your inputed number(s)\")\n",
        "c=50\n",
        "h=30\n",
        "value = []\n",
        "items=[x for x in input().split(',' )]\n",
        "for d in items:\n",
        "    value.append(str(int(round(math.sqrt(2*c*float(d)/h)))))\n",
        "\n",
        "print(', '.join(value))\n",
        "\n"
      ],
      "metadata": {
        "colab": {
          "base_uri": "https://localhost:8080/"
        },
        "id": "IdG6FPwWOpVz",
        "outputId": "79412e22-2e8d-4b63-c1f3-920878788b76"
      },
      "execution_count": null,
      "outputs": [
        {
          "output_type": "stream",
          "name": "stdout",
          "text": [
            "Welcome! Please Enter Your Number(s) sperated by commas!\n",
            "Look For the Integer(s) below your inputed number(s)\n",
            "100,150,180\n",
            "18, 22, 24\n"
          ]
        }
      ]
    },
    {
      "cell_type": "code",
      "source": [
        "#Write a program that takes 2 digits, X, Y as input and generates a 2-dimensional array. The element value in the ith row and jthcolumn of the array should be i*j\n",
        "x=int(input(\"Row:\"))\n",
        "y=int(input(\"Column:\"))\n",
        "matrix=[[0 for col in range(y)] for row in range(x)]\n",
        "for row in range(x):\n",
        "    for col in range(y):\n",
        "        matrix[row][col]=row*col\n",
        "print(matrix)"
      ],
      "metadata": {
        "colab": {
          "base_uri": "https://localhost:8080/"
        },
        "id": "XE-u0hWq516W",
        "outputId": "1e501b8e-4733-4634-9515-48c87fa97a8d"
      },
      "execution_count": null,
      "outputs": [
        {
          "output_type": "stream",
          "name": "stdout",
          "text": [
            "Row:3\n",
            "Column:5\n",
            "[[0, 0, 0, 0, 0], [0, 1, 2, 3, 4], [0, 2, 4, 6, 8]]\n"
          ]
        }
      ]
    },
    {
      "cell_type": "code",
      "source": [
        "#Write  a  program  that  accepts  a comma-separated sequence  of  words  as  input and  prints  the  words  in  a  comma-separated  sequence  after  sorting  them alphabetically.\n",
        "phrase = input(\"Input words: \")\n",
        "\n",
        "phrase_list = phrase.split(\",\")\n",
        "phrase_list.sort()\n",
        "print((', ').join(phrase_list))"
      ],
      "metadata": {
        "colab": {
          "base_uri": "https://localhost:8080/"
        },
        "id": "LTnTxpw6571U",
        "outputId": "10991d31-0c4d-4b7e-9557-3602f7b2fb8b"
      },
      "execution_count": null,
      "outputs": [
        {
          "output_type": "stream",
          "name": "stdout",
          "text": [
            "Input words: car,cake,tree,fan\n",
            "cake, car, fan, tree\n"
          ]
        }
      ]
    },
    {
      "cell_type": "code",
      "source": [
        "#Write  a  program  that  accepts a sequence  of  lines  as  input  and  prints  the  lines after making all characters in the sentence capitalized.\n",
        "print(\"Please Enter A String(s) to Capatilize: \")\n",
        "lines = []\n",
        "while True:\n",
        "    l = input()\n",
        "    if l:\n",
        "        lines.append(l.upper())\n",
        "    else:\n",
        "        break;\n",
        "\n",
        "for l in lines:\n",
        "    print(l)\n",
        "\t"
      ],
      "metadata": {
        "colab": {
          "base_uri": "https://localhost:8080/"
        },
        "id": "EYRxETt17MOt",
        "outputId": "e51d2775-f685-4a60-e841-059fc2b9b3e0"
      },
      "execution_count": null,
      "outputs": [
        {
          "output_type": "stream",
          "name": "stdout",
          "text": [
            "Please Enter A String(s) to Capatilize: \n",
            "yessir\n",
            "\n",
            "YESSIR\n"
          ]
        }
      ]
    },
    {
      "cell_type": "code",
      "source": [
        "#Write  a  program  that  accepts  a  sequence  of whitespace-separated words  as input and prints the words after removing all duplicate words and sorting them alphanumerically.\n",
        "phrase = input(\"Type in: \")\n",
        "phrase_splited = phrase.split(' ')\n",
        "\n",
        "word_list = []\n",
        "for i in phrase_splited:\n",
        "    if i not in word_list:\n",
        "        word_list.append(i)\n",
        "    else:\n",
        "        continue\n",
        "word_list.sort()\n",
        "print((' ').join(word_list))"
      ],
      "metadata": {
        "colab": {
          "base_uri": "https://localhost:8080/"
        },
        "id": "1gASEXrQ70Zp",
        "outputId": "342f2b69-4c25-4d02-8b2f-0550086e1741"
      },
      "execution_count": null,
      "outputs": [
        {
          "output_type": "stream",
          "name": "stdout",
          "text": [
            "Type in: hello world and practice makes perfect and hello world again \n",
            " again and hello makes perfect practice world\n"
          ]
        }
      ]
    },
    {
      "cell_type": "code",
      "source": [
        "#Write  a  program thataccepts  a  sequence  of comma-separated 4-digit binary numbers \n",
        "print(\"Please Type Your 4-Digit Binary Numbers Below:\")\n",
        "items = []\n",
        "num = [x for x in input().split(',')]\n",
        "for p in num:\n",
        "    x = int(p, 2)\n",
        "    if not x%5:\n",
        "        items.append(p)\n",
        "print(','.join(items))"
      ],
      "metadata": {
        "colab": {
          "base_uri": "https://localhost:8080/"
        },
        "id": "jgJ7w6Bo7-pi",
        "outputId": "f470c0fd-d059-4955-e41b-ea39b4a22144"
      },
      "execution_count": null,
      "outputs": [
        {
          "output_type": "stream",
          "name": "stdout",
          "text": [
            "Please Type Your 4-Digit Binary Numbers Below:\n",
            "0101,1001,1010,1000\n",
            "0101,1010\n"
          ]
        }
      ]
    },
    {
      "cell_type": "code",
      "source": [
        "#Write a program that accepts a sentence and calculate the number of upper-case letters and lower-case letters\n",
        "def string_test(s):\n",
        "    d={\"UPPER_CASE\":0, \"LOWER_CASE\":0}\n",
        "    for c in s:\n",
        "        if c.isupper():\n",
        "           d[\"UPPER_CASE\"]+=1\n",
        "        elif c.islower():\n",
        "           d[\"LOWER_CASE\"]+=1\n",
        "        else:\n",
        "           pass\n",
        "    print (\"Original String : \", s)\n",
        "    print (\"No. of Upper case characters : \", d[\"UPPER_CASE\"])\n",
        "    print (\"No. of Lower case Characters : \", d[\"LOWER_CASE\"])\n",
        "\n",
        "string_test(str(input(\"Please Enter A String: \")))"
      ],
      "metadata": {
        "colab": {
          "base_uri": "https://localhost:8080/"
        },
        "id": "5SinAXXF82sT",
        "outputId": "83433acc-2e3b-454c-873e-727a6e832331"
      },
      "execution_count": null,
      "outputs": [
        {
          "output_type": "stream",
          "name": "stdout",
          "text": [
            "Please Enter A String: Hello world!\n",
            "Original String :  Hello world!\n",
            "No. of Upper case characters :  1\n",
            "No. of Lower case Characters :  9\n"
          ]
        }
      ]
    },
    {
      "cell_type": "code",
      "source": [
        "#Give an example of fsum and sum function of math library.\n",
        "import math\n",
        "  \n",
        "print(math.fsum(range(10)))"
      ],
      "metadata": {
        "colab": {
          "base_uri": "https://localhost:8080/"
        },
        "id": "Lxb4cPnJ9LAR",
        "outputId": "6d4beae6-9815-445c-89d6-38e08661ed23"
      },
      "execution_count": null,
      "outputs": [
        {
          "output_type": "stream",
          "name": "stdout",
          "text": [
            "45.0\n"
          ]
        }
      ]
    },
    {
      "cell_type": "code",
      "source": [
        "#Give an example of fsum and sum function of math library.\n",
        "numbers = [1,2,3,4,5,1,4,5]\n",
        " \n",
        "Sum = sum(numbers)\n",
        "print(Sum)\n",
        " \n",
        "Sum = sum(numbers, 10)\n",
        "print(Sum)"
      ],
      "metadata": {
        "colab": {
          "base_uri": "https://localhost:8080/"
        },
        "id": "3Pr-lloy93rT",
        "outputId": "e213ee78-7a0c-4f04-ceba-44dae5be9b41"
      },
      "execution_count": null,
      "outputs": [
        {
          "output_type": "stream",
          "name": "stdout",
          "text": [
            "25\n",
            "35\n"
          ]
        }
      ]
    },
    {
      "cell_type": "code",
      "source": [
        "#Case Study No. 1\n",
        "import pandas as pd \n",
        "import numpy as np   \n",
        "data = open(\"./bank-data.csv\",'rb') \n",
        "df = pd.read_csv(data)   \n",
        "unique_jobs = [jobs.lower() for jobs in np.unique(df['job'].values)]   \n",
        "print(\"Set of uniques jobs : \",unique_jobs)   \n",
        "flag = 1 while(flag==1):   \n",
        "job_input = input(\"Please enter your job : \")     \n",
        "if job_input.lower() in unique_jobs:                  \n",
        "  print(\"Job is in the list. Eligible for loan.\")   \n",
        "elif job_input.upper() == 'END':     \n",
        "  flag = 0   \n",
        "else : \n",
        "  print(\"job not found. Not eligible for loan\")    \n",
        "  age_dict = {'max':max(df['age'].values),'min':min(df['age'].values)}    \n",
        "  print(\"max age of loan : \",age_dict.get('max'))   \n",
        "  print(\"min age of loan : \",age_dict.get('min'))   \n"
      ],
      "metadata": {
        "id": "AC3p6Ha7-GGj"
      },
      "execution_count": null,
      "outputs": []
    },
    {
      "cell_type": "code",
      "source": [
        "#Case Study No 2. Question 1 and 2\n",
        "import csv\n",
        "import re\n",
        "\n",
        "csv_data = []\n",
        "\n",
        "with open(\"FairDealCustomerData.csv\") as f:\n",
        "    reader = csv.reader(f)\n",
        "    csv_data = list([r for r in reader])\n",
        "\n",
        "\n",
        "fullname_data = list([data for data in csv_data if re.match(\n",
        "    r\"([a-zA-Z].+)\\s(\\w+)\\s(\\w+)\", data[1].strip(), re.IGNORECASE)])\n",
        "\n",
        "customerList = []\n",
        "for data in fullname_data:\n",
        "    customerList.append(Customer(productname=data[0].strip(\n",
        "    ), customername=data[1].strip(), isblacklisted=bool(data[2].strip())))\n",
        "\n",
        "customer = Customer(productname=\"XYZ\",\n",
        "                    customername=\"Sumit Jangir\", isblacklisted=True)\n",
        "customer.createOrder()"
      ],
      "metadata": {
        "id": "qGYelXfY-9vI",
        "colab": {
          "base_uri": "https://localhost:8080/",
          "height": 236
        },
        "outputId": "6fbce4cc-83dc-49fc-dbff-9f4fb91368e9"
      },
      "execution_count": null,
      "outputs": [
        {
          "output_type": "error",
          "ename": "FileNotFoundError",
          "evalue": "ignored",
          "traceback": [
            "\u001b[0;31m---------------------------------------------------------------------------\u001b[0m",
            "\u001b[0;31mFileNotFoundError\u001b[0m                         Traceback (most recent call last)",
            "\u001b[0;32m<ipython-input-5-9d887883384c>\u001b[0m in \u001b[0;36m<module>\u001b[0;34m\u001b[0m\n\u001b[1;32m      6\u001b[0m \u001b[0mcsv_data\u001b[0m \u001b[0;34m=\u001b[0m \u001b[0;34m[\u001b[0m\u001b[0;34m]\u001b[0m\u001b[0;34m\u001b[0m\u001b[0;34m\u001b[0m\u001b[0m\n\u001b[1;32m      7\u001b[0m \u001b[0;34m\u001b[0m\u001b[0m\n\u001b[0;32m----> 8\u001b[0;31m \u001b[0;32mwith\u001b[0m \u001b[0mopen\u001b[0m\u001b[0;34m(\u001b[0m\u001b[0;34m\"FairDealCustomerData.csv\"\u001b[0m\u001b[0;34m)\u001b[0m \u001b[0;32mas\u001b[0m \u001b[0mf\u001b[0m\u001b[0;34m:\u001b[0m\u001b[0;34m\u001b[0m\u001b[0;34m\u001b[0m\u001b[0m\n\u001b[0m\u001b[1;32m      9\u001b[0m     \u001b[0mreader\u001b[0m \u001b[0;34m=\u001b[0m \u001b[0mcsv\u001b[0m\u001b[0;34m.\u001b[0m\u001b[0mreader\u001b[0m\u001b[0;34m(\u001b[0m\u001b[0mf\u001b[0m\u001b[0;34m)\u001b[0m\u001b[0;34m\u001b[0m\u001b[0;34m\u001b[0m\u001b[0m\n\u001b[1;32m     10\u001b[0m     \u001b[0mcsv_data\u001b[0m \u001b[0;34m=\u001b[0m \u001b[0mlist\u001b[0m\u001b[0;34m(\u001b[0m\u001b[0;34m[\u001b[0m\u001b[0mr\u001b[0m \u001b[0;32mfor\u001b[0m \u001b[0mr\u001b[0m \u001b[0;32min\u001b[0m \u001b[0mreader\u001b[0m\u001b[0;34m]\u001b[0m\u001b[0;34m)\u001b[0m\u001b[0;34m\u001b[0m\u001b[0;34m\u001b[0m\u001b[0m\n",
            "\u001b[0;31mFileNotFoundError\u001b[0m: [Errno 2] No such file or directory: 'FairDealCustomerData.csv'"
          ]
        }
      ]
    },
    {
      "cell_type": "code",
      "source": [
        "#Case Study No 2. Question 3\n",
        "\n",
        "class Customer:\n",
        "    def __init__(self, productname, customername, isblacklisted):\n",
        "        self.productname = productname\n",
        "        self.customername = customername\n",
        "        self.isblacklisted = isblacklisted\n",
        "\n",
        "    def createOrder(self, productname, productcode):\n",
        "        if self.isblacklisted:\n",
        "            raise CustomerNotAllowedException(\n",
        "                \"Customer is not allowed to create the order because it is blacklisted.\")\n",
        "\n",
        "        order = Order(productname, productcode)\n",
        "\n",
        "        return order"
      ],
      "metadata": {
        "id": "fYtWENKua3zp"
      },
      "execution_count": null,
      "outputs": []
    },
    {
      "cell_type": "code",
      "source": [
        "#Case Study No 2. Question 4\n",
        "class CustomerNotAllowedException(Exception):\n",
        "    def __init__(self, message, errors=None):\n",
        "\n",
        "        super().__init__(message)\n",
        "        \n",
        "        self.errors = errors\n"
      ],
      "metadata": {
        "id": "EKlxWZFWbTlT"
      },
      "execution_count": null,
      "outputs": []
    },
    {
      "cell_type": "code",
      "source": [
        "#Case Study No 2. Question 5\n",
        "\n",
        "class Order:\n",
        "    def __init__(self, productname, productcode):\n",
        "        self.productname = productname\n",
        "        self.productcode = productcode"
      ],
      "metadata": {
        "id": "0U-ZAj5ka37k"
      },
      "execution_count": null,
      "outputs": []
    },
    {
      "cell_type": "code",
      "source": [],
      "metadata": {
        "id": "Rwg80cYwa4BI"
      },
      "execution_count": null,
      "outputs": []
    }
  ]
}