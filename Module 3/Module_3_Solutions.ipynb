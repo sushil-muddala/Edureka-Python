{
  "nbformat": 4,
  "nbformat_minor": 0,
  "metadata": {
    "colab": {
      "provenance": [],
      "collapsed_sections": []
    },
    "kernelspec": {
      "name": "python3",
      "display_name": "Python 3"
    },
    "language_info": {
      "name": "python"
    }
  },
  "cells": [
    {
      "cell_type": "code",
      "execution_count": null,
      "metadata": {
        "id": "jCs97maUrx80",
        "colab": {
          "base_uri": "https://localhost:8080/"
        },
        "outputId": "d027e724-1d46-4721-ffd4-6f8291ca7329"
      },
      "outputs": [
        {
          "output_type": "stream",
          "name": "stdout",
          "text": [
            "I am Tim and I am 5 years old\n"
          ]
        }
      ],
      "source": [
        "#Create a dog object that will inherit all the variables and methods of the parent class Animal and display it.\n",
        "class Animal():\n",
        "    def __init__(self, name, age):\n",
        "        self.name = name\n",
        "        self.age = age \n",
        "\n",
        "    def speak(self):\n",
        "        print(\"I am\", self.name, \"and I am\", self.age, \"years old\")\n",
        "\n",
        "\n",
        "class Dog(Animal):\n",
        "    def __init__(self, name, age):\n",
        "        super().__init__(name, age)\n",
        "\n",
        "tim = Dog(\"Tim\", 5)\n",
        "tim.speak()"
      ]
    },
    {
      "cell_type": "code",
      "source": [
        "#Demonstrate the working of Polymorphism by creating two classes -Car and Bike. Display the information like name, color, and number of wheels\n",
        "class Car:\n",
        "    def __init__(self):\n",
        "        print(\"Engine started\")\n",
        "        self.name = \"Mercedes\"\n",
        "        self.color = \"Black\"\n",
        "        self.wheel = \"4 Wheels\"\n",
        "class Bike:\n",
        "  def __init__(self):\n",
        "        print(\"Stand Lifted Up\")\n",
        "        self.names = \"Bike\"\n",
        "        self.colors = \"Baby Blue\"\n",
        "        self.wheels = \"2 Wheels\"\n",
        "car_a = Car()\n",
        "bike_a = Bike()\n",
        "print(car_a.name)\n",
        "print(car_a.color)\n",
        "print(car_a.wheel)\n",
        "print('-----------------------')\n",
        "print(\"Stand Lifted\")\n",
        "print(bike_a.names)\n",
        "print(bike_a.colors)\n",
        "print(bike_a.wheels)"
      ],
      "metadata": {
        "id": "zVNqc5mmzaZT",
        "colab": {
          "base_uri": "https://localhost:8080/"
        },
        "outputId": "8b7265d0-6133-4c1e-ffd4-6e02a0a2f735"
      },
      "execution_count": null,
      "outputs": [
        {
          "output_type": "stream",
          "name": "stdout",
          "text": [
            "Engine started\n",
            "Stand Lifted Up\n",
            "Mercedes\n",
            "Black\n",
            "4 Wheels\n",
            "-----------------------\n",
            "Stand Lifted\n",
            "Bike\n",
            "Baby Blue\n",
            "2 Wheels\n"
          ]
        }
      ]
    },
    {
      "cell_type": "code",
      "source": [
        "#Create a list of tuples containing the 5 planets of our solar system \n",
        "lst = [(1 , \"Earth's Moons\"),(79, \"Jupiter's Moons\"), (82, \"Saturn's Moons\"), (27, \"Uranus's Moons\"), (14, \"Neptune's Moons\")]\n",
        "newList = sorted(lst, key = lambda x : x[0])\n",
        "print(\"Original list: \", lst)\n",
        "print(\"Ascending Orderded List: \",newList)\n",
        "#Earth, Neptune, Uranus, Jupiter, Saturn\n"
      ],
      "metadata": {
        "id": "qYW_zrB6zeIs",
        "colab": {
          "base_uri": "https://localhost:8080/"
        },
        "outputId": "85292015-31f8-49d9-e4df-bf2aa9ae5cdd"
      },
      "execution_count": null,
      "outputs": [
        {
          "output_type": "stream",
          "name": "stdout",
          "text": [
            "Original list:  [(1, \"Earth's Moons\"), (79, \"Jupiter's Moons\"), (82, \"Saturn's Moons\"), (27, \"Uranus's Moons\"), (14, \"Neptune's Moons\")]\n",
            "Ascending Orderded List:  [(1, \"Earth's Moons\"), (14, \"Neptune's Moons\"), (27, \"Uranus's Moons\"), (79, \"Jupiter's Moons\"), (82, \"Saturn's Moons\")]\n"
          ]
        }
      ]
    },
    {
      "cell_type": "code",
      "source": [
        "#Create two functions\n",
        "tank = \"Full!\"\n",
        "def fillup():\n",
        "  print(\"Your Tank is now\", tank)\n",
        "\n",
        "def use():\n",
        "  tank = \"Empty.\"\n",
        "  print(\"Your Tank is Now\", tank),\n",
        "\n",
        "fillup()\n",
        "print(\"You can now drive!\\nYou are getting close to an empty tank.\")\n",
        "use()"
      ],
      "metadata": {
        "id": "aQd6UgvrzjLO",
        "colab": {
          "base_uri": "https://localhost:8080/"
        },
        "outputId": "7b71912e-ffae-42c1-925b-4dc42b18972e"
      },
      "execution_count": null,
      "outputs": [
        {
          "output_type": "stream",
          "name": "stdout",
          "text": [
            "Your Tank is now Full!\n",
            "You can now drive!\n",
            "You are getting close to an empty tank.\n",
            "Your Tank is Now Empty.\n"
          ]
        }
      ]
    },
    {
      "cell_type": "code",
      "source": [
        "#Write a program to depict the use of multiple inheritance\n",
        "class Class1:\n",
        "    def m(self):\n",
        "        print(\"In Class 1\")\n",
        " \n",
        "class Class2(Class1):\n",
        "    def m(self):\n",
        "        print(\"In Class 2\")\n",
        "        super().m()\n",
        " \n",
        "class Class3(Class1):\n",
        "    def m(self):\n",
        "        print(\"In Class 3\")\n",
        "        super().m()\n",
        " \n",
        "class Class4(Class2, Class3):\n",
        "    def m(self):\n",
        "        print(\"In Class 4\")  \n",
        "        super().m()\n",
        "      \n",
        "obj = Class4()\n",
        "obj.m()"
      ],
      "metadata": {
        "id": "huk_OKKUzpCl",
        "colab": {
          "base_uri": "https://localhost:8080/"
        },
        "outputId": "4794993d-6e9b-4909-c330-94b4a2f3f2a9"
      },
      "execution_count": null,
      "outputs": [
        {
          "output_type": "stream",
          "name": "stdout",
          "text": [
            "In Class 4\n",
            "In Class 2\n",
            "In Class 3\n",
            "In Class 1\n"
          ]
        }
      ]
    },
    {
      "cell_type": "code",
      "source": [
        "\n",
        "class Age:\n",
        "    def __init__(self, age = 0):\n",
        "         self.age = age\n",
        "      \n",
        "    # getter method\n",
        "    def get_age(self):\n",
        "        return self.age\n",
        "      \n",
        "    # setter method\n",
        "    def set_age(self, x):\n",
        "        self.age = x\n",
        "\n",
        "class Name:\n",
        "    def __init__(self, name = 0):\n",
        "         self.name = name\n",
        "      \n",
        "\n",
        "    def get_name(self):\n",
        "        return self.name\n",
        "\n",
        "    def set_name(self, x):\n",
        "        self.name = x\n",
        "\n",
        "raj = Age()\n",
        "raj_new = Name()\n",
        "raj.set_age(21)\n",
        "print(raj.get_age())\n",
        "raj_new.set_name(\"Bob\")\n",
        "print(raj_new.get_name())\n",
        "\n"
      ],
      "metadata": {
        "id": "PJBa_EHqz5MD",
        "colab": {
          "base_uri": "https://localhost:8080/"
        },
        "outputId": "f245909a-d9cd-43e7-c7c5-8c47d65f6439"
      },
      "execution_count": null,
      "outputs": [
        {
          "output_type": "stream",
          "name": "stdout",
          "text": [
            "21\n",
            "Bob\n"
          ]
        }
      ]
    },
    {
      "cell_type": "code",
      "source": [
        "print(\"Welcome To The Password Generator!\\n Please Enter The Following Details! \")\n",
        "name = str(input(\"Enter You Name: \"))\n",
        "age = int(input(\"Enter Your Age: \"))\n",
        "message = f\"Your Password Could Be {name}{age}! \"\n",
        "print(message)\n",
        "print(\"However, this password is not recommened.\")"
      ],
      "metadata": {
        "colab": {
          "base_uri": "https://localhost:8080/"
        },
        "id": "HqLOxmOCw3oq",
        "outputId": "3d4e0a1c-710f-4e73-dc91-20fdcc0ce0b0"
      },
      "execution_count": null,
      "outputs": [
        {
          "output_type": "stream",
          "name": "stdout",
          "text": [
            "Welcome To The Password Generator!\n",
            " Please Enter The Following Details! \n",
            "Enter You Name: dkfjaklsdjflkasjdfklas\n",
            "Enter Your Age: 3441242934\n",
            "Your Passoword Could Be dkfjaklsdjflkasjdfklas3441242934! \n",
            "However, this password is not recommened.\n"
          ]
        }
      ]
    }
  ]
}