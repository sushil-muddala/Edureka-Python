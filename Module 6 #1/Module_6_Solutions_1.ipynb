{
  "nbformat": 4,
  "nbformat_minor": 0,
  "metadata": {
    "colab": {
      "provenance": [],
      "collapsed_sections": []
    },
    "kernelspec": {
      "name": "python3",
      "display_name": "Python 3"
    },
    "language_info": {
      "name": "python"
    }
  },
  "cells": [
    {
      "cell_type": "code",
      "execution_count": null,
      "metadata": {
        "id": "TbJpK8dLQmhF"
      },
      "outputs": [],
      "source": [
        "#Extract data from the given CSV file and store the data from each column in a separate NumPy array\n",
        "import numpy as np\n",
        "import pandas as pd\n",
        "\n",
        "df_csv = pd.read_csv('SalaryGender.csv')\n",
        "\n",
        "arr_salary=(df_csv['Salary'].to_numpy())\n",
        "arr_gender=(df_csv['Gender'].to_numpy())\n",
        "arr_age=(df_csv['Age'].to_numpy())\n",
        "arr_phd=(df_csv['PhD'].to_numpy())\n",
        "\n",
        "print('Data of each column have been separated as NumPy array')\n",
        "\n",
        "\n"
      ]
    },
    {
      "cell_type": "code",
      "source": [
        "# Find the number of men with a PhD and the number of women with a PhD\n",
        "import pandas\n",
        "v_no_of_men=df_csv['Gender']==1\n",
        "v_no_of_women=df_csv['Gender']==0\n",
        "v_no_of_PhD=df_csv['PhD']==1\n",
        "df_men_with_PhD=df_csv[v_no_of_men & v_no_of_PhD]\n",
        "df_women_with_PhD=df_csv[v_no_of_women & v_no_of_PhD]\n",
        "\n",
        "print('The Total men with PhD are :',len(df_men_with_PhD.index))\n",
        "print('The Total women with PhD are :',len(df_women_with_PhD.index))\n",
        "\n"
      ],
      "metadata": {
        "id": "zN8hKe0iQ56l"
      },
      "execution_count": null,
      "outputs": []
    },
    {
      "cell_type": "code",
      "source": [
        "#Store the “Age” and “PhD” columns in one DataFrame and delete the data of all people who don’t have a PhD\n",
        "import pandas\n",
        "df_Age_PhD=df_csv[['Age','PhD']]\n",
        "\n",
        "df_Age_PhD=df_Age_PhD.drop(df_Age_PhD[df_Age_PhD['PhD']==0].index)\n",
        "\n",
        "print('Data of Age & PhD columns have been stored & people who don''t have PhD have been deleted')\n",
        "\n"
      ],
      "metadata": {
        "id": "SqDtyM84RI1t"
      },
      "execution_count": null,
      "outputs": []
    },
    {
      "cell_type": "code",
      "source": [
        "#Calculate the total number of people who have a PhD degree\n",
        "\n",
        "df_no_of_PhD=df_csv[v_no_of_PhD]\n",
        "\n",
        "print('The Total number of people with PhD are :',len(df_no_of_PhD.index))\n"
      ],
      "metadata": {
        "id": "M8-KMm1uROq1"
      },
      "execution_count": null,
      "outputs": []
    },
    {
      "cell_type": "code",
      "source": [
        "#How do you Count The Number Of Times Each Value Appears In An Array Of Integers?\n",
        "import numpy as np\n",
        "\n",
        "list_of_int=[0, 5, 4, 0, 4, 4, 3, 0, 0, 5, 2, 1, 1, 9]\n",
        "\n",
        "numpy_list=[]\n",
        "\n",
        "for i in list_of_int:\n",
        "    numpy_list.append(list_of_int.count(i))\n",
        "\n",
        "print('Output is :',np.array(numpy_list))\n",
        "\n",
        "\n"
      ],
      "metadata": {
        "id": "E7vAASV7ROy0"
      },
      "execution_count": null,
      "outputs": []
    },
    {
      "cell_type": "code",
      "source": [
        "#Create a numpy array \n",
        "import numpy as np\n",
        "numpy_array=np.array([[0, 1, 2],\n",
        "                     [ 3, 4, 5],\n",
        "                     [ 6, 7, 8],\n",
        "                     [ 9,10, 11]])\n",
        "\n",
        "numpy_array_gt_5_filter=[]\n",
        "\n",
        "for element in numpy_array:\n",
        "    for inner_element in element:\n",
        "        if inner_element<=5:\n",
        "            numpy_array_gt_5_filter.append(inner_element)\n",
        "        else:\n",
        "            pass\n",
        "\n",
        "print('Filtered array is :',np.array(numpy_array_gt_5_filter))\n"
      ],
      "metadata": {
        "id": "0ypnkge2RO5p"
      },
      "execution_count": null,
      "outputs": []
    },
    {
      "cell_type": "code",
      "source": [
        "#Create a numpy array having NaN (Not a Number) and print it.\n",
        "import numpy as np\n",
        "\n",
        "nan_array=np.array([np.NaN,1,2,np.NaN,3,4,5])\n",
        "\n",
        "without_nan_array=[]\n",
        "\n",
        "for element in nan_array:\n",
        "    if np.isnan(element)==True:\n",
        "        pass\n",
        "    else:\n",
        "        without_nan_array.append(element)\n",
        "\n",
        "print('Array with NaN is    :',nan_array)\n",
        "print('Array without NaN is :',np.array(without_nan_array))\n",
        "\n"
      ],
      "metadata": {
        "id": "V31chPLiRO_K"
      },
      "execution_count": null,
      "outputs": []
    },
    {
      "cell_type": "code",
      "source": [
        "#Create a 10x10 array with random values and find the minimum and maximum values.\n",
        "import numpy as np\n",
        "\n",
        "rand_array = np.random.randint(1000,size=(10,10))\n",
        "\n",
        "v_1d_rand_array=rand_array.ravel()\n",
        "\n",
        "rand_array_list=v_1d_rand_array.tolist()\n",
        "\n",
        "v_min_array_value=np.random.choice(rand_array_list)\n",
        "v_max_array_value=np.random.choice(rand_array_list)\n",
        "\n",
        "for element in rand_array:\n",
        "    for inner_element in element:\n",
        "        if inner_element<=v_min_array_value:\n",
        "            v_min_array_value=inner_element\n",
        "        elif inner_element>=v_max_array_value:\n",
        "            v_max_array_value=inner_element\n",
        "        else:\n",
        "            pass\n",
        "\n",
        "print('Randomly generated array of 10 x 10 is : ')\n",
        "print(rand_array)\n",
        "print('\\n')\n",
        "print('Minimum Value in the randomly generated array is :',v_min_array_value)\n",
        "print('Maximum value in the randomly generated array is :',v_max_array_value)\n",
        "\n"
      ],
      "metadata": {
        "id": "ibekyruKSBoE"
      },
      "execution_count": null,
      "outputs": []
    },
    {
      "cell_type": "code",
      "source": [
        "#Create a random vector of size 30 and find the mean value\n",
        "import numpy as np\n",
        "\n",
        "rand_array_30 = np.random.randint(1000,size=(6,5))\n",
        "\n",
        "print('Random vector of size 30 is :')\n",
        "print(rand_array_30)\n",
        "print('Mean of the above vector is :',np.mean(rand_array_30))\n"
      ],
      "metadata": {
        "id": "93RE88HoSBuo"
      },
      "execution_count": null,
      "outputs": []
    },
    {
      "cell_type": "code",
      "source": [
        "#Create numpy array having elements 0 to 10 And negate all the elements between 3 and 9\n",
        "\n",
        "np_array_0_10=np.arange(11)\n",
        "np_array_0_10_output=[]\n",
        "\n",
        "for element in np_array_0_10:\n",
        "    if element>=3 and element<=9:\n",
        "        np_array_0_10_output.append(element*-1)\n",
        "    else:\n",
        "        np_array_0_10_output.append(element)\n",
        "\n",
        "print('Original Array is :',np_array_0_10)\n",
        "print('Array output after negating numbers between 3 & 9 are :',np.array(np_array_0_10_output))"
      ],
      "metadata": {
        "id": "cuCToZNbSB0F"
      },
      "execution_count": null,
      "outputs": []
    },
    {
      "cell_type": "code",
      "source": [
        "#Create a random array of 3 rows and 3 columns and sort it according to 1st column, 2nd column or 3rd column\n",
        "import numpy as np\n",
        "\n",
        "\n",
        "rand_array_3_x_3 = np.random.randint(1000,size=(3,3))\n",
        "\n",
        "print('Original array is :')\n",
        "print(rand_array_3_x_3)\n",
        "print('Sorted array along column is :')\n",
        "print(np.sort(a=rand_array_3_x_3,axis=0))\n",
        "\n"
      ],
      "metadata": {
        "id": "X9SA8b_iSoeC"
      },
      "execution_count": null,
      "outputs": []
    },
    {
      "cell_type": "code",
      "source": [
        "#Create a four dimensions array get sum over the last two axis at once.\n",
        "import numpy as np\n",
        "\n",
        "np_records = np.arange(72)\n",
        "\n",
        "np_4d_array = np.reshape(np_records, (4,3,2,3))\n",
        "\n",
        "print('The 4D array is :')\n",
        "print(np_4d_array)\n",
        "print('Array Dimension is',np_4d_array.ndim)\n",
        "print(\"Sum of last two axis :\")\n",
        "print(np.sum(np_4d_array, axis=(2, 3)))\n"
      ],
      "metadata": {
        "id": "rWXhId1tSoge"
      },
      "execution_count": null,
      "outputs": []
    },
    {
      "cell_type": "code",
      "source": [
        "#Create a random array and swap two rows of an array.\n",
        "\n",
        "\n",
        "rand_array_2_x_2 = np.random.randint(100,size=(2,2))\n",
        "print('Random array is :')\n",
        "print(rand_array_2_x_2)\n",
        "\n",
        "rand_array_2_x_2[[0, 1]] = rand_array_2_x_2[[1, 0]]\n",
        "\n",
        "print('Random array after swapping is :')\n",
        "print(rand_array_2_x_2)\n"
      ],
      "metadata": {
        "colab": {
          "base_uri": "https://localhost:8080/"
        },
        "id": "b4uZ1_3JSoit",
        "outputId": "feb282f2-4286-443c-e975-5a083679ea2b"
      },
      "execution_count": null,
      "outputs": [
        {
          "output_type": "stream",
          "name": "stdout",
          "text": [
            "Answer for Question 13 Begins \n",
            "Random array is :\n",
            "[[56 16]\n",
            " [ 0  8]]\n",
            "Random array after swapping is :\n",
            "[[ 0  8]\n",
            " [56 16]]\n"
          ]
        }
      ]
    },
    {
      "cell_type": "code",
      "source": [
        "#Create a random matrix and Compute a matrix rank.\n",
        "import numpy as np\n",
        "print('Answer for Question 14 Begins ')\n",
        "\n",
        "x_rand_matrix = np.random.randint(100,size=(3,3))\n",
        "\n",
        "print('Random Matrix is :')\n",
        "print(x_rand_matrix)\n",
        "print('Rank of the matrix is :',np.linalg.matrix_rank(x_rand_matrix))\n"
      ],
      "metadata": {
        "id": "X5LPH3QwSolX"
      },
      "execution_count": null,
      "outputs": []
    },
    {
      "cell_type": "code",
      "source": [
        "#Question 15 5 Phases\n",
        "import seaborn as sn\n",
        "import matplotlib.pyplot as plt\n",
        "\n",
        "print('Output of phase 1 :')\n",
        "tn_school_complete_data=pd.read_csv('middle_tn_schools.csv')\n",
        "print('Data after reading file into dataframe is ;')\n",
        "print(tn_school_complete_data)\n",
        "\n",
        "print('Output after describing the file is :')\n",
        "print(tn_school_complete_data.describe())\n",
        "\n",
        "print('Output of phase 2 :')\n",
        "\n",
        "reduced_lunch_gb=tn_school_complete_data.groupby(['reduced_lunch', 'school_rating']).size().reset_index(name='counts')\n",
        "reduced_lunch_gb.drop(['counts'], axis=1,inplace=True)\n",
        "print('Output of file with reduced lunch & school rating is :')\n",
        "print(reduced_lunch_gb)\n",
        "\n",
        "print('Output after describing the file with reduced lunch & school rating is :')\n",
        "print(reduced_lunch_gb.describe())\n",
        "print('\\n')\n",
        "\n",
        "print('Output of phase 3 :')\n",
        "reduced_lunch_gb_corr_matrix=reduced_lunch_gb.corr()\n",
        "print('Correlation Analysis :')\n",
        "print(reduced_lunch_gb_corr_matrix)\n",
        "print('\\n')\n",
        "\n",
        "print('Output of phase 4 :')\n",
        "\n",
        "reduced_lunch_gb.plot(x ='reduced_lunch', y='school_rating', kind = 'scatter')\n",
        "print('Scatterplot is complete')\n",
        "plt.show()\n",
        "\n",
        "print('\\n')\n",
        "\n",
        "print('Output of phase 5 :')\n",
        "sn.heatmap(reduced_lunch_gb_corr_matrix,annot=True)\n",
        "plt.show()\n",
        "print('Correlation Matrix is complete')"
      ],
      "metadata": {
        "colab": {
          "base_uri": "https://localhost:8080/",
          "height": 398
        },
        "id": "A9ltR5FESonp",
        "outputId": "00793d2f-ea39-4340-dd46-19aed507510c"
      },
      "execution_count": null,
      "outputs": [
        {
          "output_type": "stream",
          "name": "stdout",
          "text": [
            "Output of phase 1 :\n"
          ]
        },
        {
          "output_type": "error",
          "ename": "FileNotFoundError",
          "evalue": "ignored",
          "traceback": [
            "\u001b[0;31m---------------------------------------------------------------------------\u001b[0m",
            "\u001b[0;31mFileNotFoundError\u001b[0m                         Traceback (most recent call last)",
            "\u001b[0;32m<ipython-input-5-26b15427e2ab>\u001b[0m in \u001b[0;36m<module>\u001b[0;34m\u001b[0m\n\u001b[1;32m      4\u001b[0m \u001b[0;34m\u001b[0m\u001b[0m\n\u001b[1;32m      5\u001b[0m \u001b[0mprint\u001b[0m\u001b[0;34m(\u001b[0m\u001b[0;34m'Output of phase 1 :'\u001b[0m\u001b[0;34m)\u001b[0m\u001b[0;34m\u001b[0m\u001b[0;34m\u001b[0m\u001b[0m\n\u001b[0;32m----> 6\u001b[0;31m \u001b[0mtn_school_complete_data\u001b[0m\u001b[0;34m=\u001b[0m\u001b[0mpd\u001b[0m\u001b[0;34m.\u001b[0m\u001b[0mread_csv\u001b[0m\u001b[0;34m(\u001b[0m\u001b[0;34m'middle_tn_schools.csv'\u001b[0m\u001b[0;34m)\u001b[0m\u001b[0;34m\u001b[0m\u001b[0;34m\u001b[0m\u001b[0m\n\u001b[0m\u001b[1;32m      7\u001b[0m \u001b[0mprint\u001b[0m\u001b[0;34m(\u001b[0m\u001b[0;34m'Data after reading file into dataframe is ;'\u001b[0m\u001b[0;34m)\u001b[0m\u001b[0;34m\u001b[0m\u001b[0;34m\u001b[0m\u001b[0m\n\u001b[1;32m      8\u001b[0m \u001b[0mprint\u001b[0m\u001b[0;34m(\u001b[0m\u001b[0mtn_school_complete_data\u001b[0m\u001b[0;34m)\u001b[0m\u001b[0;34m\u001b[0m\u001b[0;34m\u001b[0m\u001b[0m\n",
            "\u001b[0;32m/usr/local/lib/python3.7/dist-packages/pandas/util/_decorators.py\u001b[0m in \u001b[0;36mwrapper\u001b[0;34m(*args, **kwargs)\u001b[0m\n\u001b[1;32m    309\u001b[0m                     \u001b[0mstacklevel\u001b[0m\u001b[0;34m=\u001b[0m\u001b[0mstacklevel\u001b[0m\u001b[0;34m,\u001b[0m\u001b[0;34m\u001b[0m\u001b[0;34m\u001b[0m\u001b[0m\n\u001b[1;32m    310\u001b[0m                 )\n\u001b[0;32m--> 311\u001b[0;31m             \u001b[0;32mreturn\u001b[0m \u001b[0mfunc\u001b[0m\u001b[0;34m(\u001b[0m\u001b[0;34m*\u001b[0m\u001b[0margs\u001b[0m\u001b[0;34m,\u001b[0m \u001b[0;34m**\u001b[0m\u001b[0mkwargs\u001b[0m\u001b[0;34m)\u001b[0m\u001b[0;34m\u001b[0m\u001b[0;34m\u001b[0m\u001b[0m\n\u001b[0m\u001b[1;32m    312\u001b[0m \u001b[0;34m\u001b[0m\u001b[0m\n\u001b[1;32m    313\u001b[0m         \u001b[0;32mreturn\u001b[0m \u001b[0mwrapper\u001b[0m\u001b[0;34m\u001b[0m\u001b[0;34m\u001b[0m\u001b[0m\n",
            "\u001b[0;32m/usr/local/lib/python3.7/dist-packages/pandas/io/parsers/readers.py\u001b[0m in \u001b[0;36mread_csv\u001b[0;34m(filepath_or_buffer, sep, delimiter, header, names, index_col, usecols, squeeze, prefix, mangle_dupe_cols, dtype, engine, converters, true_values, false_values, skipinitialspace, skiprows, skipfooter, nrows, na_values, keep_default_na, na_filter, verbose, skip_blank_lines, parse_dates, infer_datetime_format, keep_date_col, date_parser, dayfirst, cache_dates, iterator, chunksize, compression, thousands, decimal, lineterminator, quotechar, quoting, doublequote, escapechar, comment, encoding, encoding_errors, dialect, error_bad_lines, warn_bad_lines, on_bad_lines, delim_whitespace, low_memory, memory_map, float_precision, storage_options)\u001b[0m\n\u001b[1;32m    584\u001b[0m     \u001b[0mkwds\u001b[0m\u001b[0;34m.\u001b[0m\u001b[0mupdate\u001b[0m\u001b[0;34m(\u001b[0m\u001b[0mkwds_defaults\u001b[0m\u001b[0;34m)\u001b[0m\u001b[0;34m\u001b[0m\u001b[0;34m\u001b[0m\u001b[0m\n\u001b[1;32m    585\u001b[0m \u001b[0;34m\u001b[0m\u001b[0m\n\u001b[0;32m--> 586\u001b[0;31m     \u001b[0;32mreturn\u001b[0m \u001b[0m_read\u001b[0m\u001b[0;34m(\u001b[0m\u001b[0mfilepath_or_buffer\u001b[0m\u001b[0;34m,\u001b[0m \u001b[0mkwds\u001b[0m\u001b[0;34m)\u001b[0m\u001b[0;34m\u001b[0m\u001b[0;34m\u001b[0m\u001b[0m\n\u001b[0m\u001b[1;32m    587\u001b[0m \u001b[0;34m\u001b[0m\u001b[0m\n\u001b[1;32m    588\u001b[0m \u001b[0;34m\u001b[0m\u001b[0m\n",
            "\u001b[0;32m/usr/local/lib/python3.7/dist-packages/pandas/io/parsers/readers.py\u001b[0m in \u001b[0;36m_read\u001b[0;34m(filepath_or_buffer, kwds)\u001b[0m\n\u001b[1;32m    480\u001b[0m \u001b[0;34m\u001b[0m\u001b[0m\n\u001b[1;32m    481\u001b[0m     \u001b[0;31m# Create the parser.\u001b[0m\u001b[0;34m\u001b[0m\u001b[0;34m\u001b[0m\u001b[0;34m\u001b[0m\u001b[0m\n\u001b[0;32m--> 482\u001b[0;31m     \u001b[0mparser\u001b[0m \u001b[0;34m=\u001b[0m \u001b[0mTextFileReader\u001b[0m\u001b[0;34m(\u001b[0m\u001b[0mfilepath_or_buffer\u001b[0m\u001b[0;34m,\u001b[0m \u001b[0;34m**\u001b[0m\u001b[0mkwds\u001b[0m\u001b[0;34m)\u001b[0m\u001b[0;34m\u001b[0m\u001b[0;34m\u001b[0m\u001b[0m\n\u001b[0m\u001b[1;32m    483\u001b[0m \u001b[0;34m\u001b[0m\u001b[0m\n\u001b[1;32m    484\u001b[0m     \u001b[0;32mif\u001b[0m \u001b[0mchunksize\u001b[0m \u001b[0;32mor\u001b[0m \u001b[0miterator\u001b[0m\u001b[0;34m:\u001b[0m\u001b[0;34m\u001b[0m\u001b[0;34m\u001b[0m\u001b[0m\n",
            "\u001b[0;32m/usr/local/lib/python3.7/dist-packages/pandas/io/parsers/readers.py\u001b[0m in \u001b[0;36m__init__\u001b[0;34m(self, f, engine, **kwds)\u001b[0m\n\u001b[1;32m    809\u001b[0m             \u001b[0mself\u001b[0m\u001b[0;34m.\u001b[0m\u001b[0moptions\u001b[0m\u001b[0;34m[\u001b[0m\u001b[0;34m\"has_index_names\"\u001b[0m\u001b[0;34m]\u001b[0m \u001b[0;34m=\u001b[0m \u001b[0mkwds\u001b[0m\u001b[0;34m[\u001b[0m\u001b[0;34m\"has_index_names\"\u001b[0m\u001b[0;34m]\u001b[0m\u001b[0;34m\u001b[0m\u001b[0;34m\u001b[0m\u001b[0m\n\u001b[1;32m    810\u001b[0m \u001b[0;34m\u001b[0m\u001b[0m\n\u001b[0;32m--> 811\u001b[0;31m         \u001b[0mself\u001b[0m\u001b[0;34m.\u001b[0m\u001b[0m_engine\u001b[0m \u001b[0;34m=\u001b[0m \u001b[0mself\u001b[0m\u001b[0;34m.\u001b[0m\u001b[0m_make_engine\u001b[0m\u001b[0;34m(\u001b[0m\u001b[0mself\u001b[0m\u001b[0;34m.\u001b[0m\u001b[0mengine\u001b[0m\u001b[0;34m)\u001b[0m\u001b[0;34m\u001b[0m\u001b[0;34m\u001b[0m\u001b[0m\n\u001b[0m\u001b[1;32m    812\u001b[0m \u001b[0;34m\u001b[0m\u001b[0m\n\u001b[1;32m    813\u001b[0m     \u001b[0;32mdef\u001b[0m \u001b[0mclose\u001b[0m\u001b[0;34m(\u001b[0m\u001b[0mself\u001b[0m\u001b[0;34m)\u001b[0m\u001b[0;34m:\u001b[0m\u001b[0;34m\u001b[0m\u001b[0;34m\u001b[0m\u001b[0m\n",
            "\u001b[0;32m/usr/local/lib/python3.7/dist-packages/pandas/io/parsers/readers.py\u001b[0m in \u001b[0;36m_make_engine\u001b[0;34m(self, engine)\u001b[0m\n\u001b[1;32m   1038\u001b[0m             )\n\u001b[1;32m   1039\u001b[0m         \u001b[0;31m# error: Too many arguments for \"ParserBase\"\u001b[0m\u001b[0;34m\u001b[0m\u001b[0;34m\u001b[0m\u001b[0;34m\u001b[0m\u001b[0m\n\u001b[0;32m-> 1040\u001b[0;31m         \u001b[0;32mreturn\u001b[0m \u001b[0mmapping\u001b[0m\u001b[0;34m[\u001b[0m\u001b[0mengine\u001b[0m\u001b[0;34m]\u001b[0m\u001b[0;34m(\u001b[0m\u001b[0mself\u001b[0m\u001b[0;34m.\u001b[0m\u001b[0mf\u001b[0m\u001b[0;34m,\u001b[0m \u001b[0;34m**\u001b[0m\u001b[0mself\u001b[0m\u001b[0;34m.\u001b[0m\u001b[0moptions\u001b[0m\u001b[0;34m)\u001b[0m  \u001b[0;31m# type: ignore[call-arg]\u001b[0m\u001b[0;34m\u001b[0m\u001b[0;34m\u001b[0m\u001b[0m\n\u001b[0m\u001b[1;32m   1041\u001b[0m \u001b[0;34m\u001b[0m\u001b[0m\n\u001b[1;32m   1042\u001b[0m     \u001b[0;32mdef\u001b[0m \u001b[0m_failover_to_python\u001b[0m\u001b[0;34m(\u001b[0m\u001b[0mself\u001b[0m\u001b[0;34m)\u001b[0m\u001b[0;34m:\u001b[0m\u001b[0;34m\u001b[0m\u001b[0;34m\u001b[0m\u001b[0m\n",
            "\u001b[0;32m/usr/local/lib/python3.7/dist-packages/pandas/io/parsers/c_parser_wrapper.py\u001b[0m in \u001b[0;36m__init__\u001b[0;34m(self, src, **kwds)\u001b[0m\n\u001b[1;32m     49\u001b[0m \u001b[0;34m\u001b[0m\u001b[0m\n\u001b[1;32m     50\u001b[0m         \u001b[0;31m# open handles\u001b[0m\u001b[0;34m\u001b[0m\u001b[0;34m\u001b[0m\u001b[0;34m\u001b[0m\u001b[0m\n\u001b[0;32m---> 51\u001b[0;31m         \u001b[0mself\u001b[0m\u001b[0;34m.\u001b[0m\u001b[0m_open_handles\u001b[0m\u001b[0;34m(\u001b[0m\u001b[0msrc\u001b[0m\u001b[0;34m,\u001b[0m \u001b[0mkwds\u001b[0m\u001b[0;34m)\u001b[0m\u001b[0;34m\u001b[0m\u001b[0;34m\u001b[0m\u001b[0m\n\u001b[0m\u001b[1;32m     52\u001b[0m         \u001b[0;32massert\u001b[0m \u001b[0mself\u001b[0m\u001b[0;34m.\u001b[0m\u001b[0mhandles\u001b[0m \u001b[0;32mis\u001b[0m \u001b[0;32mnot\u001b[0m \u001b[0;32mNone\u001b[0m\u001b[0;34m\u001b[0m\u001b[0;34m\u001b[0m\u001b[0m\n\u001b[1;32m     53\u001b[0m \u001b[0;34m\u001b[0m\u001b[0m\n",
            "\u001b[0;32m/usr/local/lib/python3.7/dist-packages/pandas/io/parsers/base_parser.py\u001b[0m in \u001b[0;36m_open_handles\u001b[0;34m(self, src, kwds)\u001b[0m\n\u001b[1;32m    227\u001b[0m             \u001b[0mmemory_map\u001b[0m\u001b[0;34m=\u001b[0m\u001b[0mkwds\u001b[0m\u001b[0;34m.\u001b[0m\u001b[0mget\u001b[0m\u001b[0;34m(\u001b[0m\u001b[0;34m\"memory_map\"\u001b[0m\u001b[0;34m,\u001b[0m \u001b[0;32mFalse\u001b[0m\u001b[0;34m)\u001b[0m\u001b[0;34m,\u001b[0m\u001b[0;34m\u001b[0m\u001b[0;34m\u001b[0m\u001b[0m\n\u001b[1;32m    228\u001b[0m             \u001b[0mstorage_options\u001b[0m\u001b[0;34m=\u001b[0m\u001b[0mkwds\u001b[0m\u001b[0;34m.\u001b[0m\u001b[0mget\u001b[0m\u001b[0;34m(\u001b[0m\u001b[0;34m\"storage_options\"\u001b[0m\u001b[0;34m,\u001b[0m \u001b[0;32mNone\u001b[0m\u001b[0;34m)\u001b[0m\u001b[0;34m,\u001b[0m\u001b[0;34m\u001b[0m\u001b[0;34m\u001b[0m\u001b[0m\n\u001b[0;32m--> 229\u001b[0;31m             \u001b[0merrors\u001b[0m\u001b[0;34m=\u001b[0m\u001b[0mkwds\u001b[0m\u001b[0;34m.\u001b[0m\u001b[0mget\u001b[0m\u001b[0;34m(\u001b[0m\u001b[0;34m\"encoding_errors\"\u001b[0m\u001b[0;34m,\u001b[0m \u001b[0;34m\"strict\"\u001b[0m\u001b[0;34m)\u001b[0m\u001b[0;34m,\u001b[0m\u001b[0;34m\u001b[0m\u001b[0;34m\u001b[0m\u001b[0m\n\u001b[0m\u001b[1;32m    230\u001b[0m         )\n\u001b[1;32m    231\u001b[0m \u001b[0;34m\u001b[0m\u001b[0m\n",
            "\u001b[0;32m/usr/local/lib/python3.7/dist-packages/pandas/io/common.py\u001b[0m in \u001b[0;36mget_handle\u001b[0;34m(path_or_buf, mode, encoding, compression, memory_map, is_text, errors, storage_options)\u001b[0m\n\u001b[1;32m    705\u001b[0m                 \u001b[0mencoding\u001b[0m\u001b[0;34m=\u001b[0m\u001b[0mioargs\u001b[0m\u001b[0;34m.\u001b[0m\u001b[0mencoding\u001b[0m\u001b[0;34m,\u001b[0m\u001b[0;34m\u001b[0m\u001b[0;34m\u001b[0m\u001b[0m\n\u001b[1;32m    706\u001b[0m                 \u001b[0merrors\u001b[0m\u001b[0;34m=\u001b[0m\u001b[0merrors\u001b[0m\u001b[0;34m,\u001b[0m\u001b[0;34m\u001b[0m\u001b[0;34m\u001b[0m\u001b[0m\n\u001b[0;32m--> 707\u001b[0;31m                 \u001b[0mnewline\u001b[0m\u001b[0;34m=\u001b[0m\u001b[0;34m\"\"\u001b[0m\u001b[0;34m,\u001b[0m\u001b[0;34m\u001b[0m\u001b[0;34m\u001b[0m\u001b[0m\n\u001b[0m\u001b[1;32m    708\u001b[0m             )\n\u001b[1;32m    709\u001b[0m         \u001b[0;32melse\u001b[0m\u001b[0;34m:\u001b[0m\u001b[0;34m\u001b[0m\u001b[0;34m\u001b[0m\u001b[0m\n",
            "\u001b[0;31mFileNotFoundError\u001b[0m: [Errno 2] No such file or directory: 'middle_tn_schools.csv'"
          ]
        }
      ]
    }
  ]
}